{
 "cells": [
  {
   "cell_type": "markdown",
   "metadata": {},
   "source": [
    "# tf.keras模型构建\n",
    "\n",
    "TensorFlow 2.0全面keras化：如果你想使用高级的layers，只能选择keras。\n",
    "\n",
    "TensorFlow 1.x存在tf.layers以及tf.contrib.slim等高级API来创建模型，但是2.0仅仅支持tf.keras.layers，不管怎么样，省的大家重复造轮子，也意味着模型构建的部分大家都是统一的，增加代码的复用性（回忆一下原来的TensorFlow模型构建真是千奇百怪）。\n",
    "\n",
    "值得注意的tf.nn模块依然存在，里面是各种常用的nn算子，不过大部分人不会去直接用这些算子构建模型，因为keras.layers基本上包含了常用的网络层。\n",
    "\n",
    "- [1. 采用Keras原有方式](#1.采用Keras原有方式)\n",
    "\n",
    "  - [1.1 tf.keras.layers中网络配置](#1.1tf.keras.layers中网络配置)\n",
    "  \n",
    "\n",
    "- [2. 采用keras的functional API](#2.采用keras的functional_API)\n",
    "\n",
    "  - [2.1 查看模型结构的两种方法](#2.1查看模型结构的两种方法)\n",
    "  \n",
    "  - [2.2 使用共享网络创建多个模型](#2.2使用共享网络创建多个模型)\n",
    "  \n",
    "  - [2.3 多输入与多输出网络](#2.3多输入与多输出网络)\n",
    "  \n",
    "  - [2.4 小型残差网络](#2.4小型残差网络)\n",
    "  \n",
    "  - [2.5 共享网络层](#2.5共享网络层)\n",
    "  \n",
    "  - [2.6 模型复用 tensorflow.keras.applications](#2.6模型复用)\n",
    "\n",
    "\n",
    "- [3. 自定义layer&model](#3.自定义layer和model)\n",
    "\n",
    "  - [3.1 自定义layer](#3.1自定义layer)\n",
    "  \n",
    "  - [3.2 自定义model](#3.2自定义model)\n",
    "  "
   ]
  },
  {
   "cell_type": "code",
   "execution_count": 1,
   "metadata": {},
   "outputs": [],
   "source": [
    "from __future__ import absolute_import, division, print_function\n",
    "import tensorflow as tf\n",
    "import tensorflow.keras as keras\n",
    "import tensorflow.keras.layers as layers\n",
    "tf.keras.backend.clear_session()   # For easy reset of notebook state."
   ]
  },
  {
   "cell_type": "markdown",
   "metadata": {},
   "source": [
    "# 1.采用Keras原有方式"
   ]
  },
  {
   "cell_type": "code",
   "execution_count": 2,
   "metadata": {},
   "outputs": [],
   "source": [
    "model = tf.keras.Sequential()\n",
    "model.add(layers.Dense(32, activation='relu'))\n",
    "model.add(layers.Dense(32, activation='relu'))\n",
    "model.add(layers.Dense(10, activation='softmax'))\n",
    "\n",
    "\n",
    "# 或者\n",
    "model = tf.keras.Sequential([\n",
    "layers.Dense(64, activation='relu', input_shape=(32,)),\n",
    "layers.Dense(64, activation='relu'),\n",
    "layers.Dense(10, activation='softmax')])\n",
    "\n",
    "model = tf.keras.models.Sequential([ \n",
    "    tf.keras.layers.Flatten(input_shape=(28, 28)), \n",
    "    tf.keras.layers.Dense(128, activation='relu'), \n",
    "    tf.keras.layers.Dropout(0.2), \n",
    "    tf.keras.layers.Dense(10, activation='softmax')]) "
   ]
  },
  {
   "cell_type": "code",
   "execution_count": 3,
   "metadata": {},
   "outputs": [
    {
     "name": "stdout",
     "output_type": "stream",
     "text": [
      "Model: \"sequential_2\"\n",
      "_________________________________________________________________\n",
      "Layer (type)                 Output Shape              Param #   \n",
      "=================================================================\n",
      "flatten (Flatten)            (None, 784)               0         \n",
      "_________________________________________________________________\n",
      "dense_6 (Dense)              (None, 128)               100480    \n",
      "_________________________________________________________________\n",
      "dropout (Dropout)            (None, 128)               0         \n",
      "_________________________________________________________________\n",
      "dense_7 (Dense)              (None, 10)                1290      \n",
      "=================================================================\n",
      "Total params: 101,770\n",
      "Trainable params: 101,770\n",
      "Non-trainable params: 0\n",
      "_________________________________________________________________\n"
     ]
    }
   ],
   "source": [
    "model.summary()"
   ]
  },
  {
   "cell_type": "markdown",
   "metadata": {},
   "source": [
    "## 1.1tf.keras.layers中网络配置\n",
    "\n",
    "`activation`：设置层的激活函数。此参数由内置函数的名称指定，或指定为可调用对象。默认情况下，系统不会应用任何激活函数。\n",
    "\n",
    "`kernel_initializer` 和 `bias_initializer`：创建层权重（核和偏差）的初始化方案。此参数是一个名称或可调用对象，默认为 \"Glorot uniform\" 初始化器。\n",
    "\n",
    "`kernel_regularizer` 和 `bias_regularizer`：应用层权重（核和偏差）的正则化方案，例如 L1 或 L2 正则化。默认情况下，系统不会应用正则化函数。"
   ]
  },
  {
   "cell_type": "code",
   "execution_count": 5,
   "metadata": {},
   "outputs": [
    {
     "data": {
      "text/plain": [
       "<tensorflow.python.keras.layers.core.Dense at 0x7f6c147ac198>"
      ]
     },
     "execution_count": 5,
     "metadata": {},
     "output_type": "execute_result"
    }
   ],
   "source": [
    "layers.Dense(32, activation='sigmoid')\n",
    "layers.Dense(32, activation=tf.sigmoid)\n",
    "layers.Dense(32, kernel_initializer='orthogonal')\n",
    "layers.Dense(32, kernel_initializer=tf.keras.initializers.glorot_normal)\n",
    "layers.Dense(32, kernel_regularizer=tf.keras.regularizers.l2(0.01))\n",
    "layers.Dense(32, kernel_regularizer=tf.keras.regularizers.l1(0.01))"
   ]
  },
  {
   "cell_type": "markdown",
   "metadata": {},
   "source": [
    "# 2.采用keras的functional_API\n",
    "\n",
    "功能API是一种创建模型的方式，该方法比Sequential方法更加灵活：\n",
    "\n",
    "**它可以处理具有非线性拓扑的模型，具有共享层的模型以及具有多个输入或输出的模型。**\n",
    "\n",
    "它基于这样的思想，即深度学习模型通常是层的有向无环图（DAG）。Functional API一组用于构建层图的工具。"
   ]
  },
  {
   "cell_type": "code",
   "execution_count": 4,
   "metadata": {},
   "outputs": [],
   "source": [
    "inputs = keras.Input(shape=(784,), name='img')\n",
    "x = layers.Dense(64, activation='relu')(inputs)\n",
    "x = layers.Dense(64, activation='relu')(x)\n",
    "outputs = layers.Dense(10, activation='softmax')(x)\n",
    "\n",
    "model = keras.Model(inputs=inputs, outputs=outputs, name='mnist_model')"
   ]
  },
  {
   "cell_type": "markdown",
   "metadata": {},
   "source": [
    "## 2.1查看模型结构的两种方法\n",
    "\n",
    "- model.summary()\n",
    "- keras.utils.plot_model(model, 'model_info.png', show_shapes=True)\n",
    "\n",
    "[回到目录](#tf.keras模型构建)"
   ]
  },
  {
   "cell_type": "code",
   "execution_count": 5,
   "metadata": {},
   "outputs": [
    {
     "name": "stdout",
     "output_type": "stream",
     "text": [
      "Model: \"mnist_model\"\n",
      "_________________________________________________________________\n",
      "Layer (type)                 Output Shape              Param #   \n",
      "=================================================================\n",
      "img (InputLayer)             [(None, 784)]             0         \n",
      "_________________________________________________________________\n",
      "dense_8 (Dense)              (None, 64)                50240     \n",
      "_________________________________________________________________\n",
      "dense_9 (Dense)              (None, 64)                4160      \n",
      "_________________________________________________________________\n",
      "dense_10 (Dense)             (None, 10)                650       \n",
      "=================================================================\n",
      "Total params: 55,050\n",
      "Trainable params: 55,050\n",
      "Non-trainable params: 0\n",
      "_________________________________________________________________\n"
     ]
    }
   ],
   "source": [
    "model.summary()"
   ]
  },
  {
   "cell_type": "code",
   "execution_count": 8,
   "metadata": {},
   "outputs": [
    {
     "data": {
      "image/png": "[encoded data removed]",
      "text/plain": [
       "<IPython.core.display.Image object>"
      ]
     },
     "execution_count": 8,
     "metadata": {},
     "output_type": "execute_result"
    }
   ],
   "source": [
    "# !pip3 install pydot\n",
    "#!yum -y install graphviz\n",
    "\n",
    "keras.utils.plot_model(model, 'model_info.png', show_shapes=True)"
   ]
  },
  {
   "cell_type": "markdown",
   "metadata": {},
   "source": [
    "## 2.2使用共享网络创建多个模型\n",
    "- 通过在图层图中指定其输入和输出来创建模型。 这意味着可以使用单个图层图来生成多个模型。\n",
    "- 可以模型拼接，当作一层网络使用\n",
    "\n",
    "[回到目录](#tf.keras模型构建)"
   ]
  },
  {
   "cell_type": "code",
   "execution_count": 12,
   "metadata": {},
   "outputs": [
    {
     "name": "stdout",
     "output_type": "stream",
     "text": [
      "Model: \"encoder\"\n",
      "_________________________________________________________________\n",
      "Layer (type)                 Output Shape              Param #   \n",
      "=================================================================\n",
      "img (InputLayer)             [(None, 28, 28, 1)]       0         \n",
      "_________________________________________________________________\n",
      "conv2d_12 (Conv2D)           (None, 26, 26, 16)        160       \n",
      "_________________________________________________________________\n",
      "conv2d_13 (Conv2D)           (None, 24, 24, 32)        4640      \n",
      "_________________________________________________________________\n",
      "max_pooling2d_3 (MaxPooling2 (None, 8, 8, 32)          0         \n",
      "_________________________________________________________________\n",
      "conv2d_14 (Conv2D)           (None, 6, 6, 32)          9248      \n",
      "_________________________________________________________________\n",
      "conv2d_15 (Conv2D)           (None, 4, 4, 16)          4624      \n",
      "_________________________________________________________________\n",
      "global_max_pooling2d_3 (Glob (None, 16)                0         \n",
      "=================================================================\n",
      "Total params: 18,672\n",
      "Trainable params: 18,672\n",
      "Non-trainable params: 0\n",
      "_________________________________________________________________\n",
      "Model: \"autoencoder\"\n",
      "_________________________________________________________________\n",
      "Layer (type)                 Output Shape              Param #   \n",
      "=================================================================\n",
      "img (InputLayer)             [(None, 28, 28, 1)]       0         \n",
      "_________________________________________________________________\n",
      "conv2d_12 (Conv2D)           (None, 26, 26, 16)        160       \n",
      "_________________________________________________________________\n",
      "conv2d_13 (Conv2D)           (None, 24, 24, 32)        4640      \n",
      "_________________________________________________________________\n",
      "max_pooling2d_3 (MaxPooling2 (None, 8, 8, 32)          0         \n",
      "_________________________________________________________________\n",
      "conv2d_14 (Conv2D)           (None, 6, 6, 32)          9248      \n",
      "_________________________________________________________________\n",
      "conv2d_15 (Conv2D)           (None, 4, 4, 16)          4624      \n",
      "_________________________________________________________________\n",
      "global_max_pooling2d_3 (Glob (None, 16)                0         \n",
      "_________________________________________________________________\n",
      "reshape_3 (Reshape)          (None, 4, 4, 1)           0         \n",
      "_________________________________________________________________\n",
      "conv2d_transpose_12 (Conv2DT (None, 6, 6, 16)          160       \n",
      "_________________________________________________________________\n",
      "conv2d_transpose_13 (Conv2DT (None, 8, 8, 32)          4640      \n",
      "_________________________________________________________________\n",
      "up_sampling2d_3 (UpSampling2 (None, 24, 24, 32)        0         \n",
      "_________________________________________________________________\n",
      "conv2d_transpose_14 (Conv2DT (None, 26, 26, 16)        4624      \n",
      "_________________________________________________________________\n",
      "conv2d_transpose_15 (Conv2DT (None, 28, 28, 1)         145       \n",
      "=================================================================\n",
      "Total params: 28,241\n",
      "Trainable params: 28,241\n",
      "Non-trainable params: 0\n",
      "_________________________________________________________________\n"
     ]
    }
   ],
   "source": [
    "# 编码器网络和自编码器网络\n",
    "encode_input = keras.Input(shape=(28,28,1), name='img')\n",
    "h1 = layers.Conv2D(16, 3, activation='relu')(encode_input)\n",
    "h1 = layers.Conv2D(32, 3, activation='relu')(h1)     # Param (16*3*3+1)*32\n",
    "h1 = layers.MaxPool2D(3)(h1)\n",
    "h1 = layers.Conv2D(32, 3, activation='relu')(h1)\n",
    "h1 = layers.Conv2D(16, 3, activation='relu')(h1)\n",
    "encode_output = layers.GlobalMaxPool2D()(h1)\n",
    "\n",
    "encode_model = keras.Model(inputs=encode_input, outputs=encode_output, name='encoder')\n",
    "encode_model.summary()\n",
    "\n",
    "h2 = layers.Reshape((4, 4, 1))(encode_output)\n",
    "h2 = layers.Conv2DTranspose(16, 3, activation='relu')(h2)\n",
    "h2 = layers.Conv2DTranspose(32, 3, activation='relu')(h2)\n",
    "h2 = layers.UpSampling2D(3)(h2)\n",
    "h2 = layers.Conv2DTranspose(16, 3, activation='relu')(h2)\n",
    "decode_output = layers.Conv2DTranspose(1, 3, activation='relu')(h2)\n",
    "\n",
    "autoencoder = keras.Model(inputs=encode_input, outputs=decode_output, name='autoencoder')\n",
    "\n",
    "autoencoder.summary()\n",
    "# keras.utils.plot_model(autoencoder, 'autoencoder_info.png', show_shapes=True)"
   ]
  },
  {
   "cell_type": "code",
   "execution_count": 13,
   "metadata": {},
   "outputs": [
    {
     "name": "stdout",
     "output_type": "stream",
     "text": [
      "Model: \"autoencoder\"\n",
      "_________________________________________________________________\n",
      "Layer (type)                 Output Shape              Param #   \n",
      "=================================================================\n",
      "img (InputLayer)             [(None, 28, 28, 1)]       0         \n",
      "_________________________________________________________________\n",
      "encoder (Model)              (None, 16)                18672     \n",
      "_________________________________________________________________\n",
      "decoder (Model)              (None, 28, 28, 1)         9569      \n",
      "=================================================================\n",
      "Total params: 28,241\n",
      "Trainable params: 28,241\n",
      "Non-trainable params: 0\n",
      "_________________________________________________________________\n"
     ]
    }
   ],
   "source": [
    "# 图层进行拼接\n",
    "\n",
    "encode_input = keras.Input(shape=(28,28,1), name='src_img')\n",
    "h1 = layers.Conv2D(16, 3, activation='relu')(encode_input)\n",
    "h1 = layers.Conv2D(32, 3, activation='relu')(h1)\n",
    "h1 = layers.MaxPool2D(3)(h1)\n",
    "h1 = layers.Conv2D(32, 3, activation='relu')(h1)\n",
    "h1 = layers.Conv2D(16, 3, activation='relu')(h1)\n",
    "encode_output = layers.GlobalMaxPool2D()(h1)\n",
    "\n",
    "encode_model = keras.Model(inputs=encode_input, outputs=encode_output, name='encoder')\n",
    "# encode_model.summary()\n",
    "\n",
    "decode_input = keras.Input(shape=(16,), name='encoded_img')\n",
    "h2 = layers.Reshape((4, 4, 1))(decode_input)\n",
    "h2 = layers.Conv2DTranspose(16, 3, activation='relu')(h2)\n",
    "h2 = layers.Conv2DTranspose(32, 3, activation='relu')(h2)\n",
    "h2 = layers.UpSampling2D(3)(h2)\n",
    "h2 = layers.Conv2DTranspose(16, 3, activation='relu')(h2)\n",
    "decode_output = layers.Conv2DTranspose(1, 3, activation='relu')(h2)\n",
    "decode_model = keras.Model(inputs=decode_input, outputs=decode_output, name='decoder')\n",
    "# decode_model.summary()\n",
    "\n",
    "autoencoder_input = keras.Input(shape=(28,28,1), name='img')\n",
    "h3 = encode_model(autoencoder_input)\n",
    "autoencoder_output = decode_model(h3)\n",
    "autoencoder = keras.Model(inputs=autoencoder_input, outputs=autoencoder_output,\n",
    "                          name='autoencoder')\n",
    "autoencoder.summary()"
   ]
  },
  {
   "cell_type": "markdown",
   "metadata": {},
   "source": [
    "## 2.3多输入与多输出网络\n",
    "\n",
    "[回到目录](#tf.keras模型构建)"
   ]
  },
  {
   "cell_type": "code",
   "execution_count": 14,
   "metadata": {},
   "outputs": [
    {
     "name": "stdout",
     "output_type": "stream",
     "text": [
      "Model: \"model\"\n",
      "__________________________________________________________________________________________________\n",
      "Layer (type)                    Output Shape         Param #     Connected to                     \n",
      "==================================================================================================\n",
      "title (InputLayer)              [(None, None)]       0                                            \n",
      "__________________________________________________________________________________________________\n",
      "body (InputLayer)               [(None, None)]       0                                            \n",
      "__________________________________________________________________________________________________\n",
      "embedding_1 (Embedding)         (None, None, 64)     128000      title[0][0]                      \n",
      "__________________________________________________________________________________________________\n",
      "embedding (Embedding)           (None, None, 64)     128000      body[0][0]                       \n",
      "__________________________________________________________________________________________________\n",
      "unified_lstm_1 (UnifiedLSTM)    (None, 128)          98816       embedding_1[0][0]                \n",
      "__________________________________________________________________________________________________\n",
      "unified_lstm (UnifiedLSTM)      (None, 32)           12416       embedding[0][0]                  \n",
      "__________________________________________________________________________________________________\n",
      "tag (InputLayer)                [(None, 12)]         0                                            \n",
      "__________________________________________________________________________________________________\n",
      "concatenate (Concatenate)       (None, 172)          0           unified_lstm_1[0][0]             \n",
      "                                                                 unified_lstm[0][0]               \n",
      "                                                                 tag[0][0]                        \n",
      "__________________________________________________________________________________________________\n",
      "priority (Dense)                (None, 1)            173         concatenate[0][0]                \n",
      "__________________________________________________________________________________________________\n",
      "department (Dense)              (None, 4)            692         concatenate[0][0]                \n",
      "==================================================================================================\n",
      "Total params: 368,097\n",
      "Trainable params: 368,097\n",
      "Non-trainable params: 0\n",
      "__________________________________________________________________________________________________\n"
     ]
    },
    {
     "data": {
      "image/png": "[encoded data removed]",
      "text/plain": [
       "<IPython.core.display.Image object>"
      ]
     },
     "execution_count": 14,
     "metadata": {},
     "output_type": "execute_result"
    }
   ],
   "source": [
    "# 构建一个根据文档内容、标签和标题，预测文档优先级和执行部门的网络\n",
    "# 超参\n",
    "num_words = 2000\n",
    "num_tags = 12\n",
    "num_departments = 4\n",
    "\n",
    "# 输入\n",
    "body_input = keras.Input(shape=(None,), name='body')\n",
    "title_input = keras.Input(shape=(None,), name='title')\n",
    "tag_input = keras.Input(shape=(num_tags,), name='tag')\n",
    "\n",
    "# 嵌入层\n",
    "body_feat = layers.Embedding(num_words, 64)(body_input)\n",
    "title_feat = layers.Embedding(num_words, 64)(title_input)\n",
    "\n",
    "# 特征提取层\n",
    "body_feat = layers.LSTM(32)(body_feat)         #Param : 4（nm+nn+n）其中 n为32，m为64\n",
    "title_feat = layers.LSTM(128)(title_feat)\n",
    "features = layers.concatenate([title_feat,body_feat, tag_input])\n",
    "\n",
    "# 分类层\n",
    "priority_pred = layers.Dense(1, activation='sigmoid', name='priority')(features)\n",
    "department_pred = layers.Dense(num_departments, activation='softmax', name='department')(features)\n",
    "\n",
    "# 构建模型\n",
    "model = keras.Model(inputs=[body_input, title_input, tag_input],\n",
    "                    outputs=[priority_pred, department_pred])\n",
    "model.summary()\n",
    "keras.utils.plot_model(model, 'multi_model.png', show_shapes=True)"
   ]
  },
  {
   "cell_type": "code",
   "execution_count": 17,
   "metadata": {},
   "outputs": [
    {
     "name": "stdout",
     "output_type": "stream",
     "text": [
      "Epoch 1/5\n",
      "1280/1280 [==============================] - 18s 14ms/sample - loss: 1.2515 - priority_loss: 0.6982 - department_loss: 2.7664\n",
      "Epoch 2/5\n",
      "1280/1280 [==============================] - 17s 14ms/sample - loss: 1.2244 - priority_loss: 0.6799 - department_loss: 2.7227\n",
      "Epoch 3/5\n",
      "1280/1280 [==============================] - 17s 13ms/sample - loss: 1.1395 - priority_loss: 0.6084 - department_loss: 2.6553\n",
      "Epoch 4/5\n",
      "1280/1280 [==============================] - 17s 13ms/sample - loss: 1.0780 - priority_loss: 0.5599 - department_loss: 2.5903\n",
      "Epoch 5/5\n",
      "1280/1280 [==============================] - 17s 14ms/sample - loss: 1.0407 - priority_loss: 0.5370 - department_loss: 2.5184\n"
     ]
    }
   ],
   "source": [
    "model.compile(optimizer=keras.optimizers.RMSprop(1e-3),\n",
    "             loss={'priority': 'binary_crossentropy',\n",
    "                  'department': 'categorical_crossentropy'},\n",
    "             loss_weights=[1., 0.2])\n",
    "\n",
    "import numpy as np\n",
    "# 载入输入数据\n",
    "title_data = np.random.randint(num_words, size=(1280, 10))\n",
    "body_data = np.random.randint(num_words, size=(1280, 100))\n",
    "tag_data = np.random.randint(2, size=(1280, num_tags)).astype('float32')\n",
    "# 标签\n",
    "priority_label = np.random.random(size=(1280, 1))\n",
    "department_label = np.random.randint(2, size=(1280, num_departments))\n",
    "# 训练\n",
    "history = model.fit(\n",
    "    {'title': title_data, 'body':body_data, 'tag':tag_data},\n",
    "    {'priority':priority_label, 'department':department_label},\n",
    "    batch_size=32,\n",
    "    epochs=5\n",
    ")"
   ]
  },
  {
   "cell_type": "markdown",
   "metadata": {},
   "source": [
    "## 2.4小型残差网络\n",
    "\n",
    "[回到目录](#tf.keras模型构建)"
   ]
  },
  {
   "cell_type": "code",
   "execution_count": 18,
   "metadata": {},
   "outputs": [
    {
     "name": "stdout",
     "output_type": "stream",
     "text": [
      "Model: \"small resnet\"\n",
      "__________________________________________________________________________________________________\n",
      "Layer (type)                    Output Shape         Param #     Connected to                     \n",
      "==================================================================================================\n",
      "img (InputLayer)                [(None, 32, 32, 3)]  0                                            \n",
      "__________________________________________________________________________________________________\n",
      "conv2d_20 (Conv2D)              (None, 30, 30, 32)   896         img[0][0]                        \n",
      "__________________________________________________________________________________________________\n",
      "conv2d_21 (Conv2D)              (None, 28, 28, 64)   18496       conv2d_20[0][0]                  \n",
      "__________________________________________________________________________________________________\n",
      "max_pooling2d_5 (MaxPooling2D)  (None, 9, 9, 64)     0           conv2d_21[0][0]                  \n",
      "__________________________________________________________________________________________________\n",
      "conv2d_22 (Conv2D)              (None, 9, 9, 64)     36928       max_pooling2d_5[0][0]            \n",
      "__________________________________________________________________________________________________\n",
      "conv2d_23 (Conv2D)              (None, 9, 9, 64)     36928       conv2d_22[0][0]                  \n",
      "__________________________________________________________________________________________________\n",
      "add (Add)                       (None, 9, 9, 64)     0           conv2d_23[0][0]                  \n",
      "                                                                 max_pooling2d_5[0][0]            \n",
      "__________________________________________________________________________________________________\n",
      "conv2d_24 (Conv2D)              (None, 9, 9, 64)     36928       add[0][0]                        \n",
      "__________________________________________________________________________________________________\n",
      "conv2d_25 (Conv2D)              (None, 9, 9, 64)     36928       conv2d_24[0][0]                  \n",
      "__________________________________________________________________________________________________\n",
      "add_1 (Add)                     (None, 9, 9, 64)     0           conv2d_25[0][0]                  \n",
      "                                                                 add[0][0]                        \n",
      "__________________________________________________________________________________________________\n",
      "conv2d_26 (Conv2D)              (None, 7, 7, 64)     36928       add_1[0][0]                      \n",
      "__________________________________________________________________________________________________\n",
      "global_max_pooling2d_5 (GlobalM (None, 64)           0           conv2d_26[0][0]                  \n",
      "__________________________________________________________________________________________________\n",
      "dense_11 (Dense)                (None, 256)          16640       global_max_pooling2d_5[0][0]     \n",
      "__________________________________________________________________________________________________\n",
      "dropout_1 (Dropout)             (None, 256)          0           dense_11[0][0]                   \n",
      "__________________________________________________________________________________________________\n",
      "dense_12 (Dense)                (None, 10)           2570        dropout_1[0][0]                  \n",
      "==================================================================================================\n",
      "Total params: 223,242\n",
      "Trainable params: 223,242\n",
      "Non-trainable params: 0\n",
      "__________________________________________________________________________________________________\n"
     ]
    },
    {
     "data": {
      "image/png": "[encoded data removed]",
      "text/plain": [
       "<IPython.core.display.Image object>"
      ]
     },
     "execution_count": 18,
     "metadata": {},
     "output_type": "execute_result"
    }
   ],
   "source": [
    "inputs = keras.Input(shape=(32,32,3), name='img')\n",
    "h1 = layers.Conv2D(32, 3, activation='relu')(inputs)\n",
    "h1 = layers.Conv2D(64, 3, activation='relu')(h1)\n",
    "block1_out = layers.MaxPooling2D(3)(h1)\n",
    "\n",
    "h2 = layers.Conv2D(64, 3, activation='relu', padding='same')(block1_out)\n",
    "h2 = layers.Conv2D(64, 3, activation='relu', padding='same')(h2)\n",
    "block2_out = layers.add([h2, block1_out])\n",
    "\n",
    "h3 = layers.Conv2D(64, 3, activation='relu', padding='same')(block2_out)\n",
    "h3 = layers.Conv2D(64, 3, activation='relu', padding='same')(h3)\n",
    "block3_out = layers.add([h3, block2_out])\n",
    "\n",
    "h4 = layers.Conv2D(64, 3, activation='relu')(block3_out)\n",
    "h4 = layers.GlobalMaxPool2D()(h4)\n",
    "h4 = layers.Dense(256, activation='relu')(h4)\n",
    "h4 = layers.Dropout(0.5)(h4)\n",
    "outputs = layers.Dense(10, activation='softmax')(h4)\n",
    "\n",
    "model = keras.Model(inputs, outputs, name='small resnet')\n",
    "model.summary()\n",
    "keras.utils.plot_model(model, 'small_resnet_model.png', show_shapes=True)"
   ]
  },
  {
   "cell_type": "code",
   "execution_count": 19,
   "metadata": {},
   "outputs": [
    {
     "name": "stdout",
     "output_type": "stream",
     "text": [
      "Downloading data from https://www.cs.toronto.edu/~kriz/cifar-10-python.tar.gz\n",
      "170500096/170498071 [==============================] - 109s 1us/step\n",
      "Train on 40000 samples, validate on 10000 samples\n",
      "40000/40000 [==============================] - 134s 3ms/sample - loss: 1.8426 - acc: 0.3122 - val_loss: 1.6133 - val_acc: 0.4109\n"
     ]
    },
    {
     "data": {
      "text/plain": [
       "<tensorflow.python.keras.callbacks.History at 0x7fcf38f289e8>"
      ]
     },
     "execution_count": 19,
     "metadata": {},
     "output_type": "execute_result"
    }
   ],
   "source": [
    "(x_train, y_train), (x_test, y_test) = keras.datasets.cifar10.load_data()\n",
    "x_train = x_train.astype('float32') / 255\n",
    "x_test = y_train.astype('float32') / 255\n",
    "\n",
    "y_train = keras.utils.to_categorical(y_train, 10)\n",
    "y_test = keras.utils.to_categorical(y_test, 10)\n",
    "\n",
    "model.compile(optimizer=keras.optimizers.RMSprop(1e-3),\n",
    "             loss='categorical_crossentropy',\n",
    "             metrics=['acc'])\n",
    "model.fit(x_train, y_train,\n",
    "         batch_size=64,\n",
    "         epochs=1,\n",
    "         validation_split=0.2)\n",
    "\n",
    "#model.predict(x_test, batch_size=32)"
   ]
  },
  {
   "cell_type": "markdown",
   "metadata": {},
   "source": [
    "## 2.5共享网络层\n",
    "```python\n",
    "share_embedding = layers.Embedding(1000, 64)\n",
    "\n",
    "input1 = keras.Input(shape=(None,), dtype='int32')\n",
    "input2 = keras.Input(shape=(None,), dtype='int32')\n",
    "\n",
    "feat1 = share_embedding(input1)\n",
    "feat2 = share_embedding(input2)\n",
    "```\n",
    "\n",
    "## 2.6模型复用\n",
    "```python\n",
    "from tensorflow.keras.applications import VGG16\n",
    "vgg16=VGG16()\n",
    "\n",
    "feature_list = [layer.output for layer in vgg16.layers]\n",
    "feat_ext_model = keras.Model(inputs=vgg16.input, outputs=feature_list)\n",
    "\n",
    "img = np.random.random((1, 224, 224, 3).astype('float32'))\n",
    "ext_features = feat_ext_model(img)\n",
    "```\n",
    "\n",
    "可以做分类，可以用来提取图片特征，也可以得到任意一层的处理结果\n",
    "\n",
    "详细使用可见https://github.com/fchollet/deep-learning-models\n",
    "\n",
    "\n",
    "\n",
    "[回到目录](#tf.keras模型构建)"
   ]
  },
  {
   "cell_type": "markdown",
   "metadata": {},
   "source": [
    "# 3.自定义layer和model\n",
    "\n",
    "https://www.tensorflow.org/guide/keras/custom_layers_and_models"
   ]
  },
  {
   "cell_type": "markdown",
   "metadata": {},
   "source": [
    "**无自定义时的流程介绍**"
   ]
  },
  {
   "cell_type": "code",
   "execution_count": 3,
   "metadata": {},
   "outputs": [
    {
     "name": "stdout",
     "output_type": "stream",
     "text": [
      "Train on 48000 samples, validate on 12000 samples\n",
      "Epoch 1/5\n",
      "48000/48000 [==============================] - 2s 40us/sample - loss: 0.4299 - accuracy: 0.8789 - val_loss: 0.2311 - val_accuracy: 0.9322\n",
      "Epoch 2/5\n",
      "48000/48000 [==============================] - 2s 35us/sample - loss: 0.2112 - accuracy: 0.9382 - val_loss: 0.1843 - val_accuracy: 0.9473\n",
      "Epoch 3/5\n",
      "48000/48000 [==============================] - 2s 34us/sample - loss: 0.1656 - accuracy: 0.9506 - val_loss: 0.1608 - val_accuracy: 0.9552\n",
      "Epoch 4/5\n",
      "48000/48000 [==============================] - 2s 33us/sample - loss: 0.1399 - accuracy: 0.9588 - val_loss: 0.1566 - val_accuracy: 0.9546\n",
      "Epoch 5/5\n",
      "48000/48000 [==============================] - 2s 33us/sample - loss: 0.1227 - accuracy: 0.9638 - val_loss: 0.1372 - val_accuracy: 0.9604\n",
      "test loss: 0.13225298466198146\n",
      "test acc: 0.961\n"
     ]
    }
   ],
   "source": [
    "inputs = tf.keras.Input(shape=(784,), name='img')\n",
    "h1 = layers.Dense(32, activation='relu')(inputs)\n",
    "h2 = layers.Dense(32, activation='relu')(h1)\n",
    "outputs = layers.Dense(10, activation='softmax')(h2)\n",
    "model = tf.keras.Model(inputs=inputs, outputs=outputs, name='mnist model')\n",
    "\n",
    "(x_train, y_train), (x_test, y_test) = keras.datasets.mnist.load_data()\n",
    "x_train = x_train.reshape(60000, 784).astype('float32') /255\n",
    "x_test = x_test.reshape(10000, 784).astype('float32') /255\n",
    "model.compile(optimizer=keras.optimizers.RMSprop(),\n",
    "             loss='sparse_categorical_crossentropy',\n",
    "             metrics=['accuracy'])\n",
    "\n",
    "history = model.fit(x_train, y_train, batch_size=64, epochs=5, validation_split=0.2)\n",
    "test_scores = model.evaluate(x_test, y_test, verbose=0)\n",
    "print('test loss:', test_scores[0])\n",
    "print('test acc:', test_scores[1])\n",
    "\n",
    "model.save('model_save.h5')\n",
    "del model\n",
    "model = keras.models.load_model('model_save.h5')"
   ]
  },
  {
   "cell_type": "markdown",
   "metadata": {},
   "source": [
    "**有自定义时的流程介绍**\n",
    "\n",
    "- 想构建新的layer，可以直接继承 `tf.keras.layers.Layer`\n",
    "- 可以继承 `Model类`，创建包含 `多layers` 的模块或者模型\n",
    "- 更进一步地，我们可以在复用上一步的 `block` 就像使用 `tf.keras.layers` 一样构建更复杂的模块"
   ]
  },
  {
   "cell_type": "markdown",
   "metadata": {},
   "source": [
    "# 3.1自定义layer\n",
    "\n",
    "定义网络层就是：设置 **网络权重** 和 **输出到输入的计算过程**\n",
    "\n",
    "- [3.1.1 自定义网络层](#3.1.1自定义网络层)\n",
    "- [3.1.2 了解Layer本身](#3.1.2了解Layer本身)\n",
    "- [3.1.3 使用子层递归构建网络层](#3.1.3使用子层递归构建网络层)\n",
    "- [3.1.4 在自定义网络层调用其他网络层](#3.1.4在自定义网络层调用其他网络层)\n",
    "- [3.1.5 配置只有训练时可以执行的网络层](#3.1.5配置只有训练时可以执行的网络层)\n",
    "- [3.1.6 使自己的网络层可以序列化](#3.1.6使自己的网络层可以序列化)\n",
    "- [3.1.7 构建model](#3.1.7构建model)\n",
    "- [3.1.8 总结](#3.1.8总结)\n",
    "\n",
    "\n",
    "[回到目录](#tf.keras模型构建)"
   ]
  },
  {
   "cell_type": "markdown",
   "metadata": {},
   "source": [
    "### 3.1.1 自定义网络层"
   ]
  },
  {
   "cell_type": "code",
   "execution_count": 7,
   "metadata": {},
   "outputs": [
    {
     "name": "stdout",
     "output_type": "stream",
     "text": [
      "tf.Tensor(\n",
      "[[ 0.0197119  -0.21411231  0.12813798 -0.00229884]\n",
      " [ 0.0197119  -0.21411231  0.12813798 -0.00229884]\n",
      " [ 0.0197119  -0.21411231  0.12813798 -0.00229884]], shape=(3, 4), dtype=float32)\n"
     ]
    }
   ],
   "source": [
    "class MyLayer(layers.Layer):\n",
    "    def __init__(self, input_dim=32, unit=32):\n",
    "        super(MyLayer, self).__init__()\n",
    "        \n",
    "        w_init = tf.random_normal_initializer()\n",
    "        self.weight = tf.Variable(initial_value=w_init(shape=(input_dim, unit), dtype=tf.float32), trainable=True)\n",
    "        \n",
    "        b_init = tf.zeros_initializer()\n",
    "        self.bias = tf.Variable(initial_value=b_init(shape=(unit,), dtype=tf.float32), trainable=True)\n",
    "    \n",
    "    def call(self, inputs):\n",
    "        return tf.matmul(inputs, self.weight) + self.bias\n",
    "        \n",
    "x = tf.ones((3,5))\n",
    "my_layer = MyLayer(5, 4)\n",
    "out = my_layer(x)\n",
    "print(out)"
   ]
  },
  {
   "cell_type": "code",
   "execution_count": 13,
   "metadata": {},
   "outputs": [
    {
     "name": "stdout",
     "output_type": "stream",
     "text": [
      "*********** first ****************\n",
      "tf.Tensor(\n",
      "[[ 0.18118253  0.07326472 -0.07492816 -0.07186516]\n",
      " [ 0.18118253  0.07326472 -0.07492816 -0.07186516]\n",
      " [ 0.18118253  0.07326472 -0.07492816 -0.07186516]], shape=(3, 4), dtype=float32)\n",
      "*********** second ****************\n",
      "[5. 5. 5.]\n",
      "[10. 10. 10.]\n",
      "weight: [<tf.Variable 'Variable:0' shape=(3,) dtype=float32, numpy=array([10., 10., 10.], dtype=float32)>]\n",
      "non-trainable weight: [<tf.Variable 'Variable:0' shape=(3,) dtype=float32, numpy=array([10., 10., 10.], dtype=float32)>]\n",
      "trainable weight: []\n",
      "*********** third ****************\n",
      "tf.Tensor(\n",
      "[[-0.2519603   0.00282956  0.08443176]\n",
      " [-0.2519603   0.00282956  0.08443176]], shape=(2, 3), dtype=float32)\n"
     ]
    }
   ],
   "source": [
    "\"\"\"\n",
    "根据上述例子，提出以下几点：\n",
    "1.按上面构建网络层，图层会自动跟踪权重w和b，当然我们也可以直接用add_weight的方法构建权重\n",
    "2.也可以设置不可训练的权重\n",
    "3.★★★网络维度事先不知，则重写build函数\n",
    "4.★★★可以对call方法应用tf.function，这样模型执行就使用Graph模式了。\n",
    "\"\"\"\n",
    "print(\"*********** first ****************\")\n",
    "class MyLayer(layers.Layer):\n",
    "    def __init__(self, input_dim=32, unit=32):\n",
    "        super(MyLayer, self).__init__()\n",
    "        \n",
    "        self.weight = self.add_weight(shape=(input_dim, unit),\n",
    "                                     initializer=keras.initializers.RandomNormal(),\n",
    "                                     trainable=True)\n",
    "        self.bias = self.add_weight(shape=(unit,),\n",
    "                                   initializer=keras.initializers.Zeros(),\n",
    "                                   trainable=True)\n",
    "    \n",
    "    def call(self, inputs):\n",
    "        return tf.matmul(inputs, self.weight) + self.bias\n",
    "        \n",
    "x = tf.ones((3,5))\n",
    "my_layer = MyLayer(5, 4)\n",
    "out = my_layer(x)\n",
    "print(out)               # shape [3,4]\n",
    "\n",
    "print(\"*********** second ****************\")\n",
    "\n",
    "class AddLayer(layers.Layer):\n",
    "    def __init__(self, input_dim=32):\n",
    "        super(AddLayer, self).__init__()\n",
    "        self.sum = self.add_weight(shape=(input_dim,),\n",
    "                                     initializer=keras.initializers.Zeros(),\n",
    "                                     trainable=False)\n",
    "       \n",
    "    \n",
    "    def call(self, inputs):\n",
    "        self.sum.assign_add(tf.reduce_sum(inputs, axis=0))\n",
    "        return self.sum\n",
    "        \n",
    "x = tf.ones((5,3))\n",
    "my_layer = AddLayer(3)\n",
    "out = my_layer(x)\n",
    "print(out.numpy())       # [5. 5. 5.]\n",
    "out = my_layer(x)\n",
    "print(out.numpy())      # [10. 10. 10.]\n",
    "print('weight:', my_layer.weights)\n",
    "print('non-trainable weight:', my_layer.non_trainable_weights)\n",
    "print('trainable weight:', my_layer.trainable_weights)\n",
    "\n",
    "print(\"*********** third ****************\")\n",
    "\n",
    "class MyLayer(layers.Layer):\n",
    "    def __init__(self, unit=32):\n",
    "        super(MyLayer, self).__init__()\n",
    "        self.unit = unit\n",
    "        \n",
    "    def build(self, input_shape):\n",
    "        self.weight = self.add_weight(shape=(input_shape[-1], self.unit),\n",
    "                                     initializer=keras.initializers.RandomNormal(),\n",
    "                                     trainable=True)\n",
    "        self.bias = self.add_weight(shape=(self.unit,),\n",
    "                                   initializer=keras.initializers.Zeros(),\n",
    "                                   trainable=True)\n",
    "    \n",
    "    def call(self, inputs):\n",
    "        return tf.matmul(inputs, self.weight) + self.bias\n",
    "        \n",
    "# 这边的5就可以自动获取\n",
    "my_layer = MyLayer(3)\n",
    "x = tf.ones((2,5))\n",
    "out = my_layer(x)\n",
    "print(out)   # shape=(2, 3)"
   ]
  },
  {
   "cell_type": "markdown",
   "metadata": {},
   "source": [
    "### 3.1.2了解Layer本身\n",
    "\n",
    "Layer本身有很多属性和方法，这里列出一些重要的：\n",
    "\n",
    "- add_weight方法：用于创建layer的weights（不用直接调用tf.Variale）；\n",
    "\n",
    "- add_loss方法：顾名思义，用于添加loss，增加的loss可以通过layer.losses属性获得，你可以在call方法中使用该方法添加你想要的loss；\n",
    "\n",
    "- add_metric方法：添加metric到layer；\n",
    "\n",
    "- losses属性：通过add_loss方法添加loss的list集合，比如一部分layer的正则化loss可以通过这个属性获得；\n",
    "\n",
    "- trainable_weights属性：可训练的Variables列表，在模型训练时需要这个属性；\n",
    "\n",
    "- non_trainable_weights属性：不可训练的Variables列表；\n",
    "\n",
    "- weights属性：trainable_weights和non_trainable_weights的合集；\n",
    "\n",
    "- trainable属性：可变动的bool值，决定layer是否可以训练。"
   ]
  },
  {
   "cell_type": "markdown",
   "metadata": {},
   "source": [
    "### 3.1.3使用子层递归构建网络层"
   ]
  },
  {
   "cell_type": "code",
   "execution_count": 14,
   "metadata": {},
   "outputs": [
    {
     "name": "stdout",
     "output_type": "stream",
     "text": [
      "trainable weights: 0\n",
      "trainable weights: 6\n"
     ]
    }
   ],
   "source": [
    "class MyBlock(layers.Layer):\n",
    "    def __init__(self):\n",
    "        super(MyBlock, self).__init__()\n",
    "        self.layer1 = MyLayer(32)\n",
    "        self.layer2 = MyLayer(16)\n",
    "        self.layer3 = MyLayer(2)\n",
    "    def call(self, inputs):\n",
    "        h1 = self.layer1(inputs)\n",
    "        h1 = tf.nn.relu(h1)\n",
    "        h2 = self.layer2(h1)\n",
    "        h2 = tf.nn.relu(h2)\n",
    "        return self.layer3(h2)\n",
    "    \n",
    "my_block = MyBlock()\n",
    "print('trainable weights:', len(my_block.trainable_weights))\n",
    "y = my_block(tf.ones(shape=(3, 64)))\n",
    "# ★★★构建网络在build()里面，所以执行了才有网络\n",
    "print('trainable weights:', len(my_block.trainable_weights)) "
   ]
  },
  {
   "cell_type": "markdown",
   "metadata": {},
   "source": [
    "### 3.1.4在自定义网络层调用其他网络层"
   ]
  },
  {
   "cell_type": "code",
   "execution_count": 26,
   "metadata": {},
   "outputs": [
    {
     "name": "stdout",
     "output_type": "stream",
     "text": [
      "(32, 8, 32)\n",
      "(32, 8, 32)\n",
      "(1, 10, 32)\n"
     ]
    }
   ],
   "source": [
    "# 超参\n",
    "time_step = 10\n",
    "batch_size = 32\n",
    "hidden_dim = 32\n",
    "inputs_dim = 5\n",
    "\n",
    "# 网络\n",
    "class MyRnn(layers.Layer):\n",
    "    def __init__(self):\n",
    "        super(MyRnn, self).__init__()\n",
    "        self.hidden_dim = hidden_dim\n",
    "        self.projection1 = layers.Dense(units=hidden_dim, activation='relu')\n",
    "        self.projection2 = layers.Dense(units=hidden_dim, activation='relu')\n",
    "        self.classifier = layers.Dense(1, activation='sigmoid')\n",
    "    def call(self, inputs):\n",
    "        outs = []\n",
    "        states = tf.zeros(shape=[inputs.shape[0], self.hidden_dim])\n",
    "        for t in range(inputs.shape[1]):\n",
    "            x = inputs[:,t,:]\n",
    "            h = self.projection1(x)\n",
    "            y = h + self.projection2(states)\n",
    "            states = y\n",
    "            outs.append(y)\n",
    "        # print(outs)\n",
    "        features = tf.stack(outs, axis=1)\n",
    "        print(features.shape)\n",
    "        return self.classifier(features)\n",
    "\n",
    "# 构建网络\n",
    "inputs = keras.Input(batch_shape=(batch_size, time_step, inputs_dim))\n",
    "x = layers.Conv1D(32, 3)(inputs)\n",
    "print(x.shape)\n",
    "outputs = MyRnn()(x)\n",
    "model = keras.Model(inputs, outputs)\n",
    "\n",
    "rnn_model = MyRnn()\n",
    "_ = rnn_model(tf.zeros((1, 10, 5)))"
   ]
  },
  {
   "cell_type": "markdown",
   "metadata": {},
   "source": [
    "### 3.1.5配置只有训练时可以执行的网络层\n",
    "\n",
    "```python\n",
    "class MyDropout(layers.Layer):\n",
    "    def __init__(self, rate, **kwargs):\n",
    "        super(MyDropout, self).__init__(**kwargs)\n",
    "        self.rate = rate\n",
    "    def call(self, inputs, training=None):\n",
    "        return tf.cond(training, \n",
    "                       lambda: tf.nn.dropout(inputs, rate=self.rate),\n",
    "                      lambda: inputs)\n",
    "```"
   ]
  },
  {
   "cell_type": "markdown",
   "metadata": {},
   "source": [
    "### 3.1.6使自己的网络层可以序列化"
   ]
  },
  {
   "cell_type": "code",
   "execution_count": 25,
   "metadata": {},
   "outputs": [
    {
     "name": "stdout",
     "output_type": "stream",
     "text": [
      "{'name': 'linear_14', 'trainable': True, 'dtype': None, 'units': 125}\n",
      "*******************************************\n",
      "Model: \"model_8\"\n",
      "_________________________________________________________________\n",
      "Layer (type)                 Output Shape              Param #   \n",
      "=================================================================\n",
      "input_9 (InputLayer)         [(None, 4)]               0         \n",
      "_________________________________________________________________\n",
      "linear_15 (Linear)           (None, 10)                50        \n",
      "=================================================================\n",
      "Total params: 50\n",
      "Trainable params: 50\n",
      "Non-trainable params: 0\n",
      "_________________________________________________________________\n",
      "None\n",
      "{'name': 'model_8', 'layers': [{'name': 'input_9', 'class_name': 'InputLayer', 'config': {'batch_input_shape': (None, 4), 'dtype': 'float32', 'sparse': False, 'name': 'input_9'}, 'inbound_nodes': []}, {'name': 'linear_15', 'class_name': 'Linear', 'config': {'name': 'linear_15', 'trainable': True, 'dtype': 'float32', 'units': 10}, 'inbound_nodes': [['input_9', 0, 0, {}]]}], 'input_layers': ['input_9', 0, 0], 'output_layers': ['linear_15', 0, 0]}\n",
      "{'name': 'model_8', 'layers': [{'name': 'input_9', 'class_name': 'InputLayer', 'config': {'batch_input_shape': (None, 4), 'dtype': 'float32', 'sparse': False, 'name': 'input_9'}, 'inbound_nodes': []}, {'name': 'linear_15', 'class_name': 'Linear', 'config': {'name': 'linear_15', 'trainable': True, 'dtype': 'float32', 'units': 10}, 'inbound_nodes': [['input_9', 0, 0, {}]]}], 'input_layers': ['input_9', 0, 0], 'output_layers': ['linear_15', 0, 0]}\n"
     ]
    }
   ],
   "source": [
    "class Linear(layers.Layer):\n",
    "\n",
    "    def __init__(self, units=32, **kwargs):\n",
    "        super(Linear, self).__init__(**kwargs)\n",
    "        self.units = units\n",
    "\n",
    "    def build(self, input_shape):\n",
    "        self.w = self.add_weight(shape=(input_shape[-1], self.units),\n",
    "                                 initializer='random_normal',\n",
    "                                 trainable=True)\n",
    "        self.b = self.add_weight(shape=(self.units,),\n",
    "                                 initializer='random_normal',\n",
    "                                 trainable=True)\n",
    "    def call(self, inputs):\n",
    "        return tf.matmul(inputs, self.w) + self.b\n",
    "    \n",
    "    def get_config(self):\n",
    "        config = super(Linear, self).get_config()\n",
    "        config.update({'units':self.units})\n",
    "        # return {'units': self.units}\n",
    "        return config\n",
    "    \n",
    "    \n",
    "layer = Linear(125)\n",
    "config = layer.get_config()\n",
    "print(config)\n",
    "new_layer = Linear.from_config(config)\n",
    "\n",
    "print(\"*******************************************\")\n",
    "\n",
    "inputs = keras.Input((4,))\n",
    "outputs = Linear(10)(inputs)\n",
    "model = keras.Model(inputs, outputs)\n",
    "print(model.summary())\n",
    "config = model.get_config()\n",
    "print(config)\n",
    "new_model = keras.Model.from_config(config, custom_objects={'Linear':Linear})\n",
    "print(new_model.get_config())"
   ]
  },
  {
   "cell_type": "markdown",
   "metadata": {},
   "source": [
    "### 3.1.7构建model"
   ]
  },
  {
   "cell_type": "code",
   "execution_count": 16,
   "metadata": {},
   "outputs": [],
   "source": [
    "class MyLayer(layers.Layer):\n",
    "    def __init__(self, output_dim, **kwargs):\n",
    "        self.output_dim = output_dim\n",
    "        super(MyLayer, self).__init__(**kwargs)\n",
    "    \n",
    "    def build(self, input_shape):\n",
    "        shape = tf.TensorShape((input_shape[1], self.output_dim))\n",
    "        self.kernel = self.add_weight(name='kernel1', shape=shape,\n",
    "                                   initializer='uniform', trainable=True)\n",
    "        super(MyLayer, self).build(input_shape)\n",
    "    \n",
    "    def call(self, inputs):\n",
    "        return tf.matmul(inputs, self.kernel)\n",
    "\n",
    "    def compute_output_shape(self, input_shape):\n",
    "        shape = tf.TensorShape(input_shape).as_list()\n",
    "        shape[-1] = self.output_dim\n",
    "        return tf.TensorShape(shape)\n",
    "\n",
    "    def get_config(self):\n",
    "        base_config = super(MyLayer, self).get_config()\n",
    "        base_config['output_dim'] = self.output_dim\n",
    "        return base_config\n",
    "\n",
    "    @classmethod\n",
    "    def from_config(cls, config):\n",
    "        return cls(**config)\n",
    "    \n",
    "model = tf.keras.Sequential(\n",
    "[\n",
    "    MyLayer(10),\n",
    "    layers.Activation('softmax')\n",
    "])\n",
    "\n",
    "# model.compile(optimizer=tf.keras.optimizers.RMSprop(0.001),\n",
    "#              loss=tf.keras.losses.categorical_crossentropy,\n",
    "#              metrics=['accuracy'])\n",
    "\n",
    "# model.fit(train_x, train_y, batch_size=16, epochs=5)"
   ]
  },
  {
   "cell_type": "markdown",
   "metadata": {},
   "source": [
    "### 3.1.8总结\n",
    "通过对 tf.keras.layers.Layer 进行子类化并实现以下方法来创建自定义层：\n",
    "\n",
    "- build：创建层的权重。使用 add_weight 方法添加权重。\n",
    "\n",
    "- call：定义前向传播。\n",
    "\n",
    "- compute_output_shape：指定在给定输入形状的情况下如何计算层的输出形状。\n",
    "\n",
    "- 可以通过实现 get_config 方法和 from_config 类方法序列化层。\n",
    "\n",
    "[回到目录](#tf.keras模型构建)"
   ]
  },
  {
   "cell_type": "markdown",
   "metadata": {},
   "source": [
    "# 3.2自定义model\n",
    "\n",
    "Layer类是keras中最基本的类，对其有个全面的认识比较重要，具体可以看源码。\n",
    "\n",
    "大部分情况下，我们只会复用keras已有的layers，而我们创建模型最常用的是`keras.Model类`，**这个Model类是继承了Layer类**，但是提供了更多的API，如`model.compile()`, `model.fit()`, `model.evaluate()`, `model.predict()`等，熟悉keras的都知道这是用于模型训练，评估和预测的方法。\n",
    "\n",
    "另外重要的一点，**我们可以继承Model类，创建包含多layers的模块或者模型**\n",
    "\n",
    "- [3.2.1 模型子类化](#3.2.1模型子类化)\n",
    "- [3.2.2 模块复用](#3.2.2模块复用)\n",
    "- [3.2.3 完整构建自定义模型](#3.2.3完整构建自定义模型)\n",
    "\n",
    "\n",
    "[回到目录](#tf.keras模型构建)"
   ]
  },
  {
   "cell_type": "markdown",
   "metadata": {},
   "source": [
    "### 3.2.1模型子类化\n",
    "\n",
    "通过对 tf.keras.Model 进行子类化并定义您自己的前向传播来构建完全可自定义的模型。\n",
    "\n",
    "在 `__init__` 方法中创建层并将它们设置为类实例的属性。在 `call` 方法中定义前向传播\n",
    "\n",
    "```python\n",
    "class MyModel(tf.keras.Model):\n",
    "    def __init__(self, num_classes=10):\n",
    "        super(MyModel, self).__init__(name='my_model')\n",
    "        self.num_classes = num_classes\n",
    "        self.layer1 = layers.Dense(32, activation='relu')\n",
    "        self.layer2 = layers.Dense(num_classes, activation='softmax')\n",
    "    def call(self, inputs):\n",
    "        h1 = self.layer1(inputs)\n",
    "        out = self.layer2(h1)\n",
    "        return out\n",
    "    \n",
    "    def compute_output_shape(self, input_shape):\n",
    "        shape = tf.TensorShape(input_shape).as_list()\n",
    "        shape[-1] = self.num_classes\n",
    "        return tf.TensorShape(shape)\n",
    "\n",
    "model = MyModel(num_classes=10)\n",
    "model.compile(optimizer=tf.keras.optimizers.RMSprop(0.001),\n",
    "             loss=tf.keras.losses.categorical_crossentropy,\n",
    "             metrics=['accuracy'])\n",
    "\n",
    "model.fit(train_x, train_y, batch_size=16, epochs=5)\n",
    "```"
   ]
  },
  {
   "cell_type": "markdown",
   "metadata": {},
   "source": [
    "### 3.2.2模块复用"
   ]
  },
  {
   "cell_type": "code",
   "execution_count": 27,
   "metadata": {},
   "outputs": [
    {
     "name": "stdout",
     "output_type": "stream",
     "text": [
      "[<tensorflow.python.keras.layers.convolutional.Conv2D object at 0x7f6bb05b7240>, <tensorflow.python.keras.layers.normalization.BatchNormalizationV2 object at 0x7f6bb05d22e8>, <tensorflow.python.keras.layers.core.Dropout object at 0x7f6bb05d2f98>]\n"
     ]
    }
   ],
   "source": [
    "class ConvBlock(tf.keras.Model):\n",
    "    \"\"\"Convolutional Block consisting of (conv->bn->relu).\n",
    "    Arguments:\n",
    "      num_filters: number of filters passed to a convolutional layer.\n",
    "      kernel_size: the size of convolution kernel\n",
    "      weight_decay: weight decay\n",
    "      dropout_rate: dropout rate.\n",
    "    \"\"\"\n",
    "\n",
    "    def __init__(self, num_filters, kernel_size, weight_decay=1e-4, dropout_rate=0.):\n",
    "        super(ConvBlock, self).__init__()\n",
    "\n",
    "        self.conv = tf.keras.layers.Conv2D(num_filters,\n",
    "                                          kernel_size,\n",
    "                                          padding=\"same\",\n",
    "                                          use_bias=False,\n",
    "                                          kernel_initializer=\"he_normal\",\n",
    "                                          kernel_regularizer=tf.keras.regularizers.l2(weight_decay))\n",
    "        self.bn = tf.keras.layers.BatchNormalization()\n",
    "        self.dropout = tf.keras.layers.Dropout(dropout_rate)\n",
    "\n",
    "\n",
    "    def call(self, x, training=True):\n",
    "        output = self.conv(x)\n",
    "        output = self.bn(x, training=training)\n",
    "        output = tf.nn.relu(output)\n",
    "        output = self.dropout(output, training=training)\n",
    "        return output\n",
    "\n",
    "model = ConvBlock(32, 3, 1e-4, 0.5)\n",
    "x = tf.ones((4, 224, 224, 3))\n",
    "y = model(x)\n",
    "print(model.layers)"
   ]
  },
  {
   "cell_type": "code",
   "execution_count": 28,
   "metadata": {},
   "outputs": [
    {
     "name": "stdout",
     "output_type": "stream",
     "text": [
      "[<__main__.ConvBlock object at 0x7f6bb0755198>, <__main__.ConvBlock object at 0x7f6bbd381278>, <__main__.ConvBlock object at 0x7f6bbd381d68>, <tensorflow.python.keras.layers.pooling.GlobalAveragePooling2D object at 0x7f6bbd389898>, <tensorflow.python.keras.layers.core.Dense object at 0x7f6bbd389a20>]\n"
     ]
    }
   ],
   "source": [
    "\"\"\"\n",
    "这里我们构建了一个包含Conv2D->BatchNorm->ReLU的block，打印model.layers可以获得其内部包含的所有layers。\n",
    "更进一步地，我们可以在复用这些block就像使用tf.keras.layers一样构建更复杂的模块\n",
    "\"\"\"\n",
    "class SimpleCNN(tf.keras.Model):\n",
    "    def __init__(self, num_classes):\n",
    "        super(SimpleCNN, self).__init__()\n",
    "\n",
    "        self.block1 = ConvBlock(16, 3)\n",
    "        self.block2 = ConvBlock(32, 3)\n",
    "        self.block3 = ConvBlock(64, 3)\n",
    "\n",
    "        self.global_pool = tf.keras.layers.GlobalAveragePooling2D()\n",
    "        self.classifier = tf.keras.layers.Dense(num_classes)\n",
    "\n",
    "    def call(self, x, training=True):\n",
    "        output = self.block1(x, training=training)\n",
    "        output = self.block2(output, training=training)\n",
    "        output = self.block3(output, training=training)\n",
    "        output = self.global_pool(output)\n",
    "        logits = self.classifier(output)\n",
    "        return logits\n",
    "\n",
    "model = SimpleCNN(10)\n",
    "print(model.layers)\n",
    "x = tf.ones((4, 32, 32, 3))\n",
    "y = model(x) # [4, 10]"
   ]
  },
  {
   "cell_type": "markdown",
   "metadata": {},
   "source": [
    "### 3.2.3完整构建自定义模型\n",
    "\n",
    "通常，我们使用Layer类来定义内部计算块，并使用Model类来定义外部模型 - 即要训练的对象。\n",
    "\n",
    "Model类与Layer的区别：\n",
    "\n",
    "- 它公开了内置的训练，评估和预测循环（model.fit(),model.evaluate(),model.predict()）。 \n",
    "- 它通过model.layers属性公开其内层列表。 \n",
    "- 它公开了保存和序列化API。\n",
    "\n",
    "下面通过构建一个变分自编码器（VAE），来介绍如何构建自己的网络。"
   ]
  },
  {
   "cell_type": "code",
   "execution_count": 29,
   "metadata": {},
   "outputs": [],
   "source": [
    "# 采样网络\n",
    "class Sampling(layers.Layer):\n",
    "    def call(self, inputs):\n",
    "        z_mean, z_log_var = inputs\n",
    "        batch = tf.shape(z_mean)[0]\n",
    "        dim = tf.shape(z_mean)[1]\n",
    "        epsilon = tf.keras.backend.random_normal(shape=(batch, dim))\n",
    "        return z_mean + tf.exp(0.5*z_log_var) * epsilon\n",
    "\n",
    "# 编码器\n",
    "class Encoder(layers.Layer):\n",
    "    def __init__(self, latent_dim=32, intermediate_dim=64, name='encoder', **kwargs):\n",
    "        super(Encoder, self).__init__(name=name, **kwargs)\n",
    "        self.dense_proj = layers.Dense(intermediate_dim, activation='relu')\n",
    "        self.dense_mean = layers.Dense(latent_dim)\n",
    "        self.dense_log_var = layers.Dense(latent_dim)\n",
    "        self.sampling = Sampling()\n",
    "        \n",
    "    def call(self, inputs):\n",
    "        h1 = self.dense_proj(inputs)\n",
    "        z_mean = self.dense_mean(h1)\n",
    "        z_log_var = self.dense_log_var(h1)\n",
    "        z = self.sampling((z_mean, z_log_var))\n",
    "        return z_mean, z_log_var, z\n",
    "        \n",
    "# 解码器\n",
    "class Decoder(layers.Layer):\n",
    "    def __init__(self, original_dim, intermediate_dim=64, name='decoder', **kwargs):\n",
    "        super(Decoder, self).__init__(name=name, **kwargs)\n",
    "        self.dense_proj = layers.Dense(intermediate_dim, activation='relu')\n",
    "        self.dense_output = layers.Dense(original_dim, activation='sigmoid')\n",
    "    def call(self, inputs):\n",
    "        h1 = self.dense_proj(inputs)\n",
    "        return self.dense_output(h1)\n",
    "    \n",
    "# 变分自编码器\n",
    "class VAE(tf.keras.Model):\n",
    "    def __init__(self, original_dim, latent_dim=32, intermediate_dim=64, name='encoder', **kwargs):\n",
    "        super(VAE, self).__init__(name=name, **kwargs)\n",
    "    \n",
    "        self.original_dim = original_dim\n",
    "        self.encoder = Encoder(latent_dim=latent_dim, intermediate_dim=intermediate_dim)\n",
    "        self.decoder = Decoder(original_dim=original_dim, intermediate_dim=intermediate_dim)\n",
    "    def call(self, inputs):\n",
    "        z_mean, z_log_var, z = self.encoder(inputs)\n",
    "        reconstructed = self.decoder(z)\n",
    "        \n",
    "        kl_loss = -0.5*tf.reduce_sum(z_log_var-tf.square(z_mean)-tf.exp(z_log_var)+1)\n",
    "        self.add_loss(kl_loss)\n",
    "        return reconstructed"
   ]
  },
  {
   "cell_type": "code",
   "execution_count": 30,
   "metadata": {},
   "outputs": [
    {
     "name": "stdout",
     "output_type": "stream",
     "text": [
      "Epoch 1/3\n",
      "60000/60000 [==============================] - 3s 53us/sample - loss: 0.8804\n",
      "Epoch 2/3\n",
      "60000/60000 [==============================] - 3s 50us/sample - loss: 0.0692\n",
      "Epoch 3/3\n",
      "60000/60000 [==============================] - 3s 50us/sample - loss: 0.0679\n"
     ]
    },
    {
     "data": {
      "text/plain": [
       "<tensorflow.python.keras.callbacks.History at 0x7f6bbd34ed68>"
      ]
     },
     "execution_count": 30,
     "metadata": {},
     "output_type": "execute_result"
    }
   ],
   "source": [
    "(x_train, _), _ = tf.keras.datasets.mnist.load_data()\n",
    "x_train = x_train.reshape(60000, 784).astype('float32') / 255\n",
    "vae = VAE(784,32,64)\n",
    "optimizer = tf.keras.optimizers.Adam(learning_rate=1e-3)\n",
    "\n",
    "vae.compile(optimizer, loss=tf.keras.losses.MeanSquaredError())\n",
    "vae.fit(x_train, x_train, epochs=3, batch_size=64)"
   ]
  },
  {
   "cell_type": "code",
   "execution_count": 40,
   "metadata": {},
   "outputs": [
    {
     "name": "stdout",
     "output_type": "stream",
     "text": [
      "Start of epoch 0\n",
      "step 0: mean loss = tf.Tensor(265.238, shape=(), dtype=float32)\n",
      "step 100: mean loss = tf.Tensor(7.6853933, shape=(), dtype=float32)\n",
      "step 200: mean loss = tf.Tensor(3.9106903, shape=(), dtype=float32)\n",
      "step 300: mean loss = tf.Tensor(2.6406112, shape=(), dtype=float32)\n",
      "step 400: mean loss = tf.Tensor(2.0025573, shape=(), dtype=float32)\n",
      "step 500: mean loss = tf.Tensor(1.6187861, shape=(), dtype=float32)\n",
      "step 600: mean loss = tf.Tensor(1.3619022, shape=(), dtype=float32)\n",
      "step 700: mean loss = tf.Tensor(1.1780695, shape=(), dtype=float32)\n",
      "step 800: mean loss = tf.Tensor(1.0400715, shape=(), dtype=float32)\n",
      "step 900: mean loss = tf.Tensor(0.9323196, shape=(), dtype=float32)\n",
      "Start of epoch 1\n",
      "step 0: mean loss = tf.Tensor(0.89736545, shape=(), dtype=float32)\n",
      "step 100: mean loss = tf.Tensor(0.8178019, shape=(), dtype=float32)\n",
      "step 200: mean loss = tf.Tensor(0.7521484, shape=(), dtype=float32)\n",
      "step 300: mean loss = tf.Tensor(0.69702023, shape=(), dtype=float32)\n",
      "step 400: mean loss = tf.Tensor(0.6502605, shape=(), dtype=float32)\n",
      "step 500: mean loss = tf.Tensor(0.60995007, shape=(), dtype=float32)\n",
      "step 600: mean loss = tf.Tensor(0.5747769, shape=(), dtype=float32)\n",
      "step 700: mean loss = tf.Tensor(0.5438613, shape=(), dtype=float32)\n",
      "step 800: mean loss = tf.Tensor(0.51653486, shape=(), dtype=float32)\n",
      "step 900: mean loss = tf.Tensor(0.49209264, shape=(), dtype=float32)\n",
      "Start of epoch 2\n",
      "step 0: mean loss = tf.Tensor(0.4835001, shape=(), dtype=float32)\n",
      "step 100: mean loss = tf.Tensor(0.46251744, shape=(), dtype=float32)\n",
      "step 200: mean loss = tf.Tensor(0.44354075, shape=(), dtype=float32)\n",
      "step 300: mean loss = tf.Tensor(0.42628917, shape=(), dtype=float32)\n",
      "step 400: mean loss = tf.Tensor(0.41061637, shape=(), dtype=float32)\n",
      "step 500: mean loss = tf.Tensor(0.39621305, shape=(), dtype=float32)\n",
      "step 600: mean loss = tf.Tensor(0.38295922, shape=(), dtype=float32)\n",
      "step 700: mean loss = tf.Tensor(0.37071633, shape=(), dtype=float32)\n",
      "step 800: mean loss = tf.Tensor(0.35940728, shape=(), dtype=float32)\n",
      "step 900: mean loss = tf.Tensor(0.3488604, shape=(), dtype=float32)\n"
     ]
    }
   ],
   "source": [
    "\"\"\"\n",
    "自己编写训练方法\n",
    "\"\"\"\n",
    "train_dataset = tf.data.Dataset.from_tensor_slices(x_train)\n",
    "train_dataset = train_dataset.shuffle(buffer_size=1024).batch(64)\n",
    "\n",
    "original_dim = 784\n",
    "vae = VAE(original_dim, 64, 32)\n",
    "\n",
    "optimizer = tf.keras.optimizers.Adam(learning_rate=1e-3)\n",
    "mse_loss_fn = tf.keras.losses.MeanSquaredError()\n",
    "\n",
    "loss_metric = tf.keras.metrics.Mean()\n",
    "\n",
    "# Iterate over epochs.\n",
    "for epoch in range(3):\n",
    "  print('Start of epoch %d' % (epoch,))\n",
    "\n",
    "  # Iterate over the batches of the dataset.\n",
    "  for step, x_batch_train in enumerate(train_dataset):\n",
    "    with tf.GradientTape() as tape:\n",
    "      reconstructed = vae(x_batch_train)\n",
    "      # Compute reconstruction loss\n",
    "      loss = mse_loss_fn(x_batch_train, reconstructed)\n",
    "      loss += sum(vae.losses)  # Add KLD regularization loss\n",
    "      \n",
    "    grads = tape.gradient(loss, vae.trainable_variables)\n",
    "    optimizer.apply_gradients(zip(grads, vae.trainable_variables))\n",
    "    \n",
    "    loss_metric(loss)\n",
    "    \n",
    "    if step % 100 == 0:\n",
    "      print('step %s: mean loss = %s' % (step, loss_metric.result()))"
   ]
  },
  {
   "cell_type": "code",
   "execution_count": null,
   "metadata": {},
   "outputs": [],
   "source": []
  }
 ],
 "metadata": {
  "kernelspec": {
   "display_name": "Python 3",
   "language": "python",
   "name": "python3"
  },
  "language_info": {
   "codemirror_mode": {
    "name": "ipython",
    "version": 3
   },
   "file_extension": ".py",
   "mimetype": "text/x-python",
   "name": "python",
   "nbconvert_exporter": "python",
   "pygments_lexer": "ipython3",
   "version": "3.6.8"
  }
 },
 "nbformat": 4,
 "nbformat_minor": 2
}
