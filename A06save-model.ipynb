{
 "cells": [
  {
   "cell_type": "markdown",
   "metadata": {},
   "source": [
    "# keras模型保存和序列化\n",
    "\n",
    "- [1. 准备数据和定义模型](#1.准备数据和定义模型)\n",
    "\n",
    "- [2. 以checkpoints形式保存](#2.以checkpoints形式保存)\n",
    "\n",
    "    - [2.1 加载模型进行预测](#2.1加载模型进行预测)\n",
    "    \n",
    "    - [2.2 调整保存相关参数](#2.2调整保存相关参数)\n",
    "    \n",
    "- []()\n"
   ]
  },
  {
   "cell_type": "markdown",
   "metadata": {},
   "source": [
    "## 1.准备数据和定义模型"
   ]
  },
  {
   "cell_type": "code",
   "execution_count": 1,
   "metadata": {},
   "outputs": [
    {
     "name": "stdout",
     "output_type": "stream",
     "text": [
      "2.0.0-beta1\n",
      "Model: \"sequential\"\n",
      "_________________________________________________________________\n",
      "Layer (type)                 Output Shape              Param #   \n",
      "=================================================================\n",
      "dense (Dense)                (None, 512)               401920    \n",
      "_________________________________________________________________\n",
      "dropout (Dropout)            (None, 512)               0         \n",
      "_________________________________________________________________\n",
      "dense_1 (Dense)              (None, 10)                5130      \n",
      "=================================================================\n",
      "Total params: 407,050\n",
      "Trainable params: 407,050\n",
      "Non-trainable params: 0\n",
      "_________________________________________________________________\n"
     ]
    }
   ],
   "source": [
    "#!pip install -q pyyaml h5py  # 需要以 HDF5 格式保存模型\n",
    "from __future__ import absolute_import, division, print_function, unicode_literals\n",
    "\n",
    "import os\n",
    "\n",
    "import tensorflow as tf\n",
    "from tensorflow import keras\n",
    "\n",
    "print(tf.version.VERSION)\n",
    "\n",
    "# 准备数据集\n",
    "(train_images, train_labels), (test_images, test_labels) = tf.keras.datasets.mnist.load_data()\n",
    "\n",
    "train_labels = train_labels[:-1000]\n",
    "test_labels = test_labels[-1000:]\n",
    "\n",
    "train_images = train_images[:-1000].reshape(-1, 28 * 28) / 255.0\n",
    "test_images = test_images[-1000:].reshape(-1, 28 * 28) / 255.0\n",
    "\n",
    "# 定义模型\n",
    "# 定义一个简单的序列模型\n",
    "def create_model():\n",
    "    model = tf.keras.models.Sequential([\n",
    "        keras.layers.Dense(512, activation='relu', input_shape=(784,)),\n",
    "        keras.layers.Dropout(0.2),\n",
    "        keras.layers.Dense(10, activation='softmax')\n",
    "    ])\n",
    "\n",
    "    model.compile(optimizer='adam',\n",
    "                loss='sparse_categorical_crossentropy',\n",
    "                metrics=['accuracy'])\n",
    "\n",
    "    return model\n",
    "\n",
    "# 创建一个基本的模型实例\n",
    "model = create_model()\n",
    "\n",
    "# 显示模型的结构\n",
    "model.summary()"
   ]
  },
  {
   "cell_type": "markdown",
   "metadata": {},
   "source": [
    "## 2.以checkpoints形式保存\n",
    "\n",
    "可以使用训练好的模型而无需从头开始重新训练，**或在打断的地方开始训练**，以防止训练过程没有保存。 \n",
    "\n",
    "`tf.keras.callbacks.ModelCheckpoint` 允许在训练的过程中和结束时回调保存的模型。\n",
    "\n",
    "[回到目录](#keras模型保存和序列化)"
   ]
  },
  {
   "cell_type": "code",
   "execution_count": 4,
   "metadata": {},
   "outputs": [
    {
     "name": "stderr",
     "output_type": "stream",
     "text": [
      "WARNING: Logging before flag parsing goes to stderr.\n",
      "W0115 16:40:43.202754 139836618565440 deprecation.py:323] From /usr/local/python3/lib/python3.6/site-packages/tensorflow/python/ops/math_grad.py:1250: add_dispatch_support.<locals>.wrapper (from tensorflow.python.ops.array_ops) is deprecated and will be removed in a future version.\n",
      "Instructions for updating:\n",
      "Use tf.where in 2.0, which has the same broadcast rule as np.where\n"
     ]
    },
    {
     "name": "stdout",
     "output_type": "stream",
     "text": [
      "Train on 59000 samples, validate on 1000 samples\n",
      "Epoch 1/10\n",
      "58624/59000 [============================>.] - ETA: 0s - loss: 0.2254 - accuracy: 0.9331\n",
      "Epoch 00001: saving model to training_1/cp.ckpt\n",
      "59000/59000 [==============================] - 5s 89us/sample - loss: 0.2247 - accuracy: 0.9333 - val_loss: 0.1058 - val_accuracy: 0.9680\n",
      "Epoch 2/10\n",
      "58752/59000 [============================>.] - ETA: 0s - loss: 0.0983 - accuracy: 0.9701\n",
      "Epoch 00002: saving model to training_1/cp.ckpt\n",
      "59000/59000 [==============================] - 5s 81us/sample - loss: 0.0982 - accuracy: 0.9701 - val_loss: 0.1080 - val_accuracy: 0.9710\n",
      "Epoch 3/10\n",
      "58368/59000 [============================>.] - ETA: 0s - loss: 0.0694 - accuracy: 0.9788\n",
      "Epoch 00003: saving model to training_1/cp.ckpt\n",
      "59000/59000 [==============================] - 5s 79us/sample - loss: 0.0694 - accuracy: 0.9788 - val_loss: 0.0813 - val_accuracy: 0.9760\n",
      "Epoch 4/10\n",
      "58816/59000 [============================>.] - ETA: 0s - loss: 0.0542 - accuracy: 0.9827\n",
      "Epoch 00004: saving model to training_1/cp.ckpt\n",
      "59000/59000 [==============================] - 5s 82us/sample - loss: 0.0541 - accuracy: 0.9827 - val_loss: 0.0929 - val_accuracy: 0.9760\n",
      "Epoch 5/10\n",
      "58816/59000 [============================>.] - ETA: 0s - loss: 0.0432 - accuracy: 0.9857\n",
      "Epoch 00005: saving model to training_1/cp.ckpt\n",
      "59000/59000 [==============================] - 5s 86us/sample - loss: 0.0431 - accuracy: 0.9857 - val_loss: 0.0746 - val_accuracy: 0.9790\n",
      "Epoch 6/10\n",
      "58720/59000 [============================>.] - ETA: 0s - loss: 0.0369 - accuracy: 0.9878\n",
      "Epoch 00006: saving model to training_1/cp.ckpt\n",
      "59000/59000 [==============================] - 5s 87us/sample - loss: 0.0369 - accuracy: 0.9878 - val_loss: 0.0719 - val_accuracy: 0.9770\n",
      "Epoch 7/10\n",
      "58592/59000 [============================>.] - ETA: 0s - loss: 0.0307 - accuracy: 0.9898\n",
      "Epoch 00007: saving model to training_1/cp.ckpt\n",
      "59000/59000 [==============================] - 9s 149us/sample - loss: 0.0307 - accuracy: 0.9898 - val_loss: 0.0782 - val_accuracy: 0.9790\n",
      "Epoch 8/10\n",
      "58624/59000 [============================>.] - ETA: 0s - loss: 0.0284 - accuracy: 0.9900\n",
      "Epoch 00008: saving model to training_1/cp.ckpt\n",
      "59000/59000 [==============================] - 5s 92us/sample - loss: 0.0285 - accuracy: 0.9901 - val_loss: 0.0769 - val_accuracy: 0.9770\n",
      "Epoch 9/10\n",
      "58720/59000 [============================>.] - ETA: 0s - loss: 0.0257 - accuracy: 0.9913\n",
      "Epoch 00009: saving model to training_1/cp.ckpt\n",
      "59000/59000 [==============================] - 5s 87us/sample - loss: 0.0258 - accuracy: 0.9912 - val_loss: 0.0887 - val_accuracy: 0.9790\n",
      "Epoch 10/10\n",
      "58688/59000 [============================>.] - ETA: 0s - loss: 0.0222 - accuracy: 0.9922\n",
      "Epoch 00010: saving model to training_1/cp.ckpt\n",
      "59000/59000 [==============================] - 5s 87us/sample - loss: 0.0222 - accuracy: 0.9922 - val_loss: 0.0824 - val_accuracy: 0.9820\n"
     ]
    },
    {
     "data": {
      "text/plain": [
       "<tensorflow.python.keras.callbacks.History at 0x7f2df948d9e8>"
      ]
     },
     "execution_count": 4,
     "metadata": {},
     "output_type": "execute_result"
    }
   ],
   "source": [
    "checkpoint_path = \"training_1/cp.ckpt\"\n",
    "checkpoint_dir = os.path.dirname(checkpoint_path)\n",
    "\n",
    "# 创建一个保存模型权重的回调\n",
    "cp_callback = tf.keras.callbacks.ModelCheckpoint(filepath=checkpoint_path,\n",
    "                                                 save_weights_only=True,\n",
    "                                                 verbose=1)\n",
    "\n",
    "# 使用新的回调训练模型\n",
    "model.fit(train_images, \n",
    "          train_labels,  \n",
    "          epochs=10,\n",
    "          validation_data=(test_images,test_labels),\n",
    "          callbacks=[cp_callback])  # 通过回调训练"
   ]
  },
  {
   "cell_type": "code",
   "execution_count": 5,
   "metadata": {},
   "outputs": [
    {
     "name": "stdout",
     "output_type": "stream",
     "text": [
      "checkpoint  cp.ckpt.data-00000-of-00001  cp.ckpt.index\n"
     ]
    }
   ],
   "source": [
    "!ls {checkpoint_dir}"
   ]
  },
  {
   "cell_type": "markdown",
   "metadata": {},
   "source": [
    "### 2.1加载模型进行预测\n",
    "\n",
    "仅恢复模型的权重时，**必须具有与原始模型具有相同网络结构的模型**。由于模型具有相同的结构，您可以共享权重，尽管它是模型的不同实例。\n",
    "\n",
    "[回到目录](#keras模型保存和序列化)"
   ]
  },
  {
   "cell_type": "code",
   "execution_count": 8,
   "metadata": {},
   "outputs": [
    {
     "name": "stdout",
     "output_type": "stream",
     "text": [
      "1000/1000 - 0s - loss: 2.4252 - accuracy: 0.0800\n",
      "Untrained model, accuracy:  8.00%\n",
      "1000/1000 - 0s - loss: 0.0824 - accuracy: 0.9820\n",
      "Restored model, accuracy: 98.20%\n"
     ]
    }
   ],
   "source": [
    "# 创建一个基本模型实例\n",
    "model = create_model()\n",
    "\n",
    "# 评估模型\n",
    "loss, acc = model.evaluate(test_images,  test_labels, verbose=2)\n",
    "print(\"Untrained model, accuracy: {:5.2f}%\".format(100*acc))\n",
    "\n",
    "# 加载权重\n",
    "model.load_weights(checkpoint_path)\n",
    "\n",
    "# 重新评估模型\n",
    "loss,acc = model.evaluate(test_images,  test_labels, verbose=2)\n",
    "print(\"Restored model, accuracy: {:5.2f}%\".format(100*acc))"
   ]
  },
  {
   "cell_type": "markdown",
   "metadata": {},
   "source": [
    "### 2.2调整保存相关参数\n",
    "\n",
    "- 为 checkpoint 提供唯一名称并调整 checkpoint 频率\n",
    "\n",
    "- 每五个 epochs 保存一次唯一命名的 checkpoint \n",
    "\n",
    "[回到目录](#keras模型保存和序列化)"
   ]
  },
  {
   "cell_type": "code",
   "execution_count": 9,
   "metadata": {},
   "outputs": [
    {
     "name": "stderr",
     "output_type": "stream",
     "text": [
      "W0115 17:01:31.837317 139836618565440 callbacks.py:859] `period` argument is deprecated. Please use `save_freq` to specify the frequency in number of samples seen.\n",
      "W0115 17:01:31.977887 139836618565440 util.py:244] Unresolved object in checkpoint: (root).optimizer.iter\n",
      "W0115 17:01:31.978780 139836618565440 util.py:244] Unresolved object in checkpoint: (root).optimizer.beta_1\n",
      "W0115 17:01:31.979504 139836618565440 util.py:244] Unresolved object in checkpoint: (root).optimizer.beta_2\n",
      "W0115 17:01:31.980298 139836618565440 util.py:244] Unresolved object in checkpoint: (root).optimizer.decay\n",
      "W0115 17:01:31.981003 139836618565440 util.py:244] Unresolved object in checkpoint: (root).optimizer.learning_rate\n",
      "W0115 17:01:31.983219 139836618565440 util.py:252] A checkpoint was restored (e.g. tf.train.Checkpoint.restore or tf.keras.Model.load_weights) but not all checkpointed values were used. See above for specific issues. Use expect_partial() on the load status object, e.g. tf.train.Checkpoint.restore(...).expect_partial(), to silence these warnings, or use assert_consumed() to make the check explicit. See https://www.tensorflow.org/alpha/guide/checkpoints#loading_mechanics for details.\n"
     ]
    },
    {
     "name": "stdout",
     "output_type": "stream",
     "text": [
      "\n",
      "Epoch 00005: saving model to training_2/cp-0005.ckpt\n",
      "\n",
      "Epoch 00010: saving model to training_2/cp-0010.ckpt\n",
      "\n",
      "Epoch 00015: saving model to training_2/cp-0015.ckpt\n",
      "\n",
      "Epoch 00020: saving model to training_2/cp-0020.ckpt\n",
      "\n",
      "Epoch 00025: saving model to training_2/cp-0025.ckpt\n",
      "\n",
      "Epoch 00030: saving model to training_2/cp-0030.ckpt\n",
      "\n",
      "Epoch 00035: saving model to training_2/cp-0035.ckpt\n",
      "\n",
      "Epoch 00040: saving model to training_2/cp-0040.ckpt\n",
      "\n",
      "Epoch 00045: saving model to training_2/cp-0045.ckpt\n",
      "\n",
      "Epoch 00050: saving model to training_2/cp-0050.ckpt\n"
     ]
    },
    {
     "data": {
      "text/plain": [
       "<tensorflow.python.keras.callbacks.History at 0x7f2ddc5b3780>"
      ]
     },
     "execution_count": 9,
     "metadata": {},
     "output_type": "execute_result"
    }
   ],
   "source": [
    "# 在文件名中包含 epoch (使用 `str.format`)\n",
    "checkpoint_path = \"training_2/cp-{epoch:04d}.ckpt\"\n",
    "checkpoint_dir = os.path.dirname(checkpoint_path)\n",
    "\n",
    "# 创建一个回调，每 5 个 epochs 保存模型的权重\n",
    "cp_callback = tf.keras.callbacks.ModelCheckpoint(\n",
    "    filepath=checkpoint_path, \n",
    "    verbose=1, \n",
    "    save_weights_only=True,\n",
    "    period=5)\n",
    "\n",
    "# 创建一个新的模型实例\n",
    "model = create_model()\n",
    "\n",
    "# 使用 `checkpoint_path` 格式保存权重\n",
    "model.save_weights(checkpoint_path.format(epoch=0))\n",
    "\n",
    "# 使用新的回调*训练*模型\n",
    "model.fit(train_images, \n",
    "              train_labels,\n",
    "              epochs=50, \n",
    "              callbacks=[cp_callback],\n",
    "              validation_data=(test_images,test_labels),\n",
    "              verbose=0)"
   ]
  },
  {
   "cell_type": "code",
   "execution_count": 10,
   "metadata": {},
   "outputs": [
    {
     "name": "stdout",
     "output_type": "stream",
     "text": [
      "checkpoint\t\t\t  cp-0025.ckpt.index\n",
      "cp-0000.ckpt.data-00000-of-00001  cp-0030.ckpt.data-00000-of-00001\n",
      "cp-0000.ckpt.index\t\t  cp-0030.ckpt.index\n",
      "cp-0005.ckpt.data-00000-of-00001  cp-0035.ckpt.data-00000-of-00001\n",
      "cp-0005.ckpt.index\t\t  cp-0035.ckpt.index\n",
      "cp-0010.ckpt.data-00000-of-00001  cp-0040.ckpt.data-00000-of-00001\n",
      "cp-0010.ckpt.index\t\t  cp-0040.ckpt.index\n",
      "cp-0015.ckpt.data-00000-of-00001  cp-0045.ckpt.data-00000-of-00001\n",
      "cp-0015.ckpt.index\t\t  cp-0045.ckpt.index\n",
      "cp-0020.ckpt.data-00000-of-00001  cp-0050.ckpt.data-00000-of-00001\n",
      "cp-0020.ckpt.index\t\t  cp-0050.ckpt.index\n",
      "cp-0025.ckpt.data-00000-of-00001\n"
     ]
    }
   ],
   "source": [
    "! ls {checkpoint_dir}"
   ]
  },
  {
   "cell_type": "code",
   "execution_count": 11,
   "metadata": {},
   "outputs": [
    {
     "data": {
      "text/plain": [
       "'training_2/cp-0050.ckpt'"
      ]
     },
     "execution_count": 11,
     "metadata": {},
     "output_type": "execute_result"
    }
   ],
   "source": [
    "latest = tf.train.latest_checkpoint(checkpoint_dir)\n",
    "latest"
   ]
  },
  {
   "cell_type": "code",
   "execution_count": 12,
   "metadata": {},
   "outputs": [
    {
     "name": "stdout",
     "output_type": "stream",
     "text": [
      "1000/1000 - 0s - loss: 0.1521 - accuracy: 0.9840\n",
      "Restored model, accuracy: 98.40%\n"
     ]
    }
   ],
   "source": [
    "# 创建一个新的模型实例\n",
    "model = create_model()\n",
    "\n",
    "# 加载以前保存的权重\n",
    "model.load_weights(latest)\n",
    "\n",
    "# 重新评估模型\n",
    "loss, acc = model.evaluate(test_images,  test_labels, verbose=2)\n",
    "print(\"Restored model, accuracy: {:5.2f}%\".format(100*acc))"
   ]
  },
  {
   "cell_type": "markdown",
   "metadata": {},
   "source": [
    "上述代码将权重存储到 checkpoint 格式化文件的集合中，这些文件仅包含二进制格式的训练权重。\n",
    "\n",
    "Checkpoints 包含：\n",
    "\n",
    "- 一个或多个包含模型权重的分片。\n",
    "- 索引文件，指示哪些权重存储在哪个分片中。\n",
    "\n",
    "**如果你只在一台机器上训练一个模型，你将有一个带有后缀的碎片： .data-00000-of-00001**"
   ]
  },
  {
   "cell_type": "code",
   "execution_count": null,
   "metadata": {},
   "outputs": [],
   "source": []
  },
  {
   "cell_type": "code",
   "execution_count": null,
   "metadata": {},
   "outputs": [],
   "source": []
  },
  {
   "cell_type": "code",
   "execution_count": null,
   "metadata": {},
   "outputs": [],
   "source": []
  },
  {
   "cell_type": "code",
   "execution_count": null,
   "metadata": {},
   "outputs": [],
   "source": []
  },
  {
   "cell_type": "code",
   "execution_count": null,
   "metadata": {},
   "outputs": [],
   "source": []
  },
  {
   "cell_type": "code",
   "execution_count": null,
   "metadata": {},
   "outputs": [],
   "source": []
  },
  {
   "cell_type": "code",
   "execution_count": null,
   "metadata": {},
   "outputs": [],
   "source": []
  },
  {
   "cell_type": "code",
   "execution_count": null,
   "metadata": {},
   "outputs": [],
   "source": []
  },
  {
   "cell_type": "code",
   "execution_count": null,
   "metadata": {},
   "outputs": [],
   "source": []
  },
  {
   "cell_type": "code",
   "execution_count": null,
   "metadata": {},
   "outputs": [],
   "source": []
  },
  {
   "cell_type": "code",
   "execution_count": null,
   "metadata": {},
   "outputs": [],
   "source": []
  }
 ],
 "metadata": {
  "kernelspec": {
   "display_name": "Python 3",
   "language": "python",
   "name": "python3"
  },
  "language_info": {
   "codemirror_mode": {
    "name": "ipython",
    "version": 3
   },
   "file_extension": ".py",
   "mimetype": "text/x-python",
   "name": "python",
   "nbconvert_exporter": "python",
   "pygments_lexer": "ipython3",
   "version": "3.6.8"
  }
 },
 "nbformat": 4,
 "nbformat_minor": 2
}
