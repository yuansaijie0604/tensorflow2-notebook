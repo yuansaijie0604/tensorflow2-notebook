{
 "cells": [
  {
   "cell_type": "markdown",
   "metadata": {},
   "source": [
    "# 模型训练\n",
    "\n",
    "https://www.tensorflow.org/guide/keras/train_and_evaluate\n",
    "\n",
    "- [1. 一般流程](#1.一般流程)\n",
    "\n",
    "- [2. 损失Loss](#2.损失Loss)\n",
    "\n",
    "  - [2.1 自定义损失](#2.1自定义损失)\n",
    "  \n",
    "\n",
    "- [3. 指标Metric](#3.指标Metric)\n",
    "\n",
    "- [4. 优化器Optimizer](#4.优化器Optimizer)\n",
    "\n",
    "- [5. tf.data](#5.tf.data)\n",
    "\n",
    "- [6. 样本权重和类权重](#6.样本权重和类权重)\n",
    "\n",
    "- [7. 多输入多输出模型](#7.多输入多输出模型)\n",
    "\n",
    "- [8. 使用回调](#8.使用回调)\n",
    "\n",
    "- [9. 自行构造训练流程](#9.自行构造训练流程)\n"
   ]
  },
  {
   "cell_type": "code",
   "execution_count": 12,
   "metadata": {},
   "outputs": [],
   "source": [
    "from __future__ import absolute_import, division, print_function\n",
    "import tensorflow as tf\n",
    "tf.keras.backend.clear_session()\n",
    "import tensorflow.keras as keras\n",
    "import tensorflow.keras.layers as layers"
   ]
  },
  {
   "cell_type": "markdown",
   "metadata": {},
   "source": [
    "## 1.一般流程\n",
    "\n",
    "- 采用keras比较常规的compile和fit训练方式\n",
    "- 采用custom training loops，自由度较高"
   ]
  },
  {
   "cell_type": "code",
   "execution_count": 2,
   "metadata": {},
   "outputs": [
    {
     "name": "stdout",
     "output_type": "stream",
     "text": [
      "Train on 50000 samples, validate on 10000 samples\n",
      "Epoch 1/3\n",
      "50000/50000 [==============================] - 2s 43us/sample - loss: 0.3406 - sparse_categorical_accuracy: 0.9027 - val_loss: 0.1693 - val_sparse_categorical_accuracy: 0.9534\n",
      "Epoch 2/3\n",
      "50000/50000 [==============================] - 2s 33us/sample - loss: 0.1557 - sparse_categorical_accuracy: 0.9544 - val_loss: 0.1263 - val_sparse_categorical_accuracy: 0.9629\n",
      "Epoch 3/3\n",
      "50000/50000 [==============================] - 2s 33us/sample - loss: 0.1129 - sparse_categorical_accuracy: 0.9654 - val_loss: 0.1134 - val_sparse_categorical_accuracy: 0.9659\n",
      "history:\n",
      "{'loss': [0.34061549639582633, 0.15569830632925033, 0.11287801637411117], 'sparse_categorical_accuracy': [0.9027, 0.95436, 0.96544], 'val_loss': [0.16925939092636108, 0.1263127308666706, 0.11337280856966972], 'val_sparse_categorical_accuracy': [0.9534, 0.9629, 0.9659]}\n",
      "10000/10000 [==============================] - 0s 10us/sample - loss: 0.1040 - sparse_categorical_accuracy: 0.9694\n",
      "evaluate:\n",
      "[0.1039944934591651, 0.9694]\n",
      "predict:\n",
      "[[1.7167888e-06 4.8283120e-08 1.8168788e-04 2.0019310e-03 6.4047483e-09\n",
      "  5.6377835e-06 1.3981559e-10 9.9775177e-01 5.6495974e-06 5.1515355e-05]\n",
      " [3.9436805e-09 2.9634823e-05 9.9992275e-01 4.6718571e-05 7.6904741e-12\n",
      "  6.3078943e-07 6.7892159e-08 1.2085449e-09 7.2946513e-08 3.4430570e-11]]\n"
     ]
    }
   ],
   "source": [
    "# 模型构造\n",
    "inputs = keras.Input(shape=(784,), name='mnist_input')\n",
    "h1 = layers.Dense(64, activation='relu')(inputs)\n",
    "h1 = layers.Dense(64, activation='relu')(h1)\n",
    "outputs = layers.Dense(10, activation='softmax')(h1)\n",
    "model = keras.Model(inputs, outputs)\n",
    "# keras.utils.plot_model(model, 'net001.png', show_shapes=True)\n",
    "\n",
    "model.compile(optimizer=keras.optimizers.RMSprop(),\n",
    "             loss=keras.losses.SparseCategoricalCrossentropy(),\n",
    "             metrics=[keras.metrics.SparseCategoricalAccuracy()])\n",
    "\n",
    "# 载入数据\n",
    "(x_train, y_train), (x_test, y_test) = keras.datasets.mnist.load_data()\n",
    "x_train = x_train.reshape(60000, 784).astype('float32') /255\n",
    "x_test = x_test.reshape(10000, 784).astype('float32') /255\n",
    "\n",
    "x_val = x_train[-10000:]\n",
    "y_val = y_train[-10000:]\n",
    "\n",
    "x_train = x_train[:-10000]\n",
    "y_train = y_train[:-10000]\n",
    "\n",
    "# 训练模型\n",
    "history = model.fit(x_train, y_train, batch_size=64, epochs=3, validation_data=(x_val, y_val))\n",
    "print('history:')\n",
    "print(history.history)\n",
    "\n",
    "result = model.evaluate(x_test, y_test, batch_size=128)\n",
    "print('evaluate:')\n",
    "print(result)\n",
    "pred = model.predict(x_test[:2])\n",
    "print('predict:')\n",
    "print(pred)"
   ]
  },
  {
   "cell_type": "code",
   "execution_count": null,
   "metadata": {},
   "outputs": [],
   "source": [
    "\"\"\"\n",
    "不是第一次看到了，在A01quickstart的第二章节看过类似的例子\n",
    "\"\"\"\n",
    "\n",
    "import numpy as np\n",
    "import tensorflow as tf\n",
    "\n",
    "fashion_mnist = tf.keras.datasets.fashion_mnist\n",
    "\n",
    "(train_images, train_labels), (test_images, test_labels) = fashion_mnist.load_data()\n",
    "\n",
    "# Adding a dimension to the array -> new shape == (28, 28, 1)\n",
    "train_images = train_images[..., None]     # (60000, 28, 28) =>  (60000, 28, 28, 1)\n",
    "test_images = test_images[..., None]       # (10000, 28, 28) =>  (10000, 28, 28, 1)\n",
    "\n",
    "# Getting the images in [0, 1] range.\n",
    "train_images = train_images / np.float32(255)\n",
    "test_images = test_images / np.float32(255)\n",
    "\n",
    "train_labels = train_labels.astype('int64')\n",
    "test_labels = test_labels.astype('int64')\n",
    "\n",
    "# dataset\n",
    "train_ds = tf.data.Dataset.from_tensor_slices(\n",
    "    (train_images, train_labels)).shuffle(10000).batch(32)   # type(train_ds)=>tensorflow.python.data.ops.dataset_ops.BatchDataset                                                                                                                                                                        \n",
    "test_ds = tf.data.Dataset.from_tensor_slices(\n",
    "    (test_images, test_labels)).batch(32)\n",
    "\n",
    "# Model\n",
    "class MyModel(tf.keras.Sequential):\n",
    "    def __init__(self):\n",
    "        super(MyModel, self).__init__([\n",
    "          tf.keras.layers.Conv2D(32, 3, activation='relu'),\n",
    "          tf.keras.layers.MaxPooling2D(),\n",
    "          tf.keras.layers.Conv2D(64, 3, activation='relu'),\n",
    "          tf.keras.layers.MaxPooling2D(),\n",
    "          tf.keras.layers.Flatten(),\n",
    "          tf.keras.layers.Dense(64, activation='relu'),\n",
    "          tf.keras.layers.Dense(10, activation=None)\n",
    "        ])\n",
    "\n",
    "model = MyModel()\n",
    "\n",
    "# optimizer\n",
    "initial_learning_rate = 1e-4\n",
    "lr_schedule = tf.keras.optimizers.schedules.ExponentialDecay(\n",
    "    initial_learning_rate,\n",
    "    decay_steps=100000,\n",
    "    decay_rate=0.96,\n",
    "    staircase=True)\n",
    "\n",
    "optimizer = tf.keras.optimizers.RMSprop(learning_rate=lr_schedule)\n",
    "\n",
    "# checkpoint\n",
    "checkpoint = tf.train.Checkpoint(step=tf.Variable(0), optimizer=optimizer, model=model)\n",
    "manager = tf.train.CheckpointManager(checkpoint, './tf_ckpts', max_to_keep=3)\n",
    "\n",
    "# loss function\n",
    "loss_object = tf.keras.losses.SparseCategoricalCrossentropy(from_logits=True)\n",
    "\n",
    "# metric\n",
    "train_loss_metric = tf.keras.metrics.Mean(name='train_loss')\n",
    "train_acc_metric = tf.keras.metrics.SparseCategoricalAccuracy(name='train_accuracy')\n",
    "test_loss_metric = tf.keras.metrics.Mean(name='test_loss')\n",
    "test_acc_metric = tf.keras.metrics.SparseCategoricalAccuracy(name='test_accuracy')\n",
    "\n",
    "# define a train step\n",
    "@tf.function\n",
    "def train_step(inputs, targets):\n",
    "    with tf.GradientTape() as tape:\n",
    "        predictions = model(inputs, training=True)\n",
    "        loss = loss_object(targets, predictions)\n",
    "        loss += sum(model.losses)  # add other losses\n",
    "    # compute gradients and update variables\n",
    "    gradients = tape.gradient(loss, model.trainable_variables)\n",
    "    optimizer.apply_gradients(zip(gradients, model.trainable_variables))\n",
    "    train_loss_metric(loss)\n",
    "    train_acc_metric(targets, predictions)\n",
    "\n",
    "# define a test step\n",
    "@tf.function\n",
    "def test_step(inputs, targets):\n",
    "    predictions = model(inputs, training=False)\n",
    "    loss = loss_object(targets, predictions)\n",
    "    test_loss_metric(loss)\n",
    "    test_acc_metric(targets, predictions)\n",
    "\n",
    "# train loop\n",
    "epochs = 10\n",
    "for epoch in range(epochs):\n",
    "    print('Start of epoch %d' % (epoch,))\n",
    "    # Iterate over the batches of the dataset\n",
    "    for step, (inputs, targets) in enumerate(train_ds):\n",
    "        train_step(inputs, targets)\n",
    "        checkpoint.step.assign_add(1)\n",
    "        # log every 20 step\n",
    "        if step % 20 == 0:\n",
    "            manager.save() # save checkpoint\n",
    "            print('Epoch: {}, Step: {}, Train Loss: {}, Train Accuracy: {}'.format(\n",
    "                epoch, step, train_loss_metric.result().numpy(),\n",
    "                train_acc_metric.result().numpy())\n",
    "            )\n",
    "            train_loss_metric.reset_states()\n",
    "            train_acc_metric.reset_states()\n",
    "\n",
    "# do test\n",
    "for inputs, targets in test_ds:\n",
    "    test_step(inputs, targets)\n",
    "print('Test Loss: {}, Test Accuracy: {}'.format(\n",
    "    test_loss_metric.result().numpy(),\n",
    "    test_acc_metric.result().numpy()))"
   ]
  },
  {
   "cell_type": "markdown",
   "metadata": {},
   "source": [
    "## 2.损失Loss\n",
    "\n",
    "对于losses，其本身就是对各种loss函数的封装，位于 `tf.keras.losses`\n",
    "\n",
    "https://www.tensorflow.org/api_docs/python/tf/keras/losses\n",
    "\n",
    "A | B | C | D | others\n",
    "---|--- |--- |--- |---\n",
    "BinaryCrossentropy | MeanAbsoluteError | CategoricalHinge | CosineSimilarity | KLDivergence\n",
    "CategoricalCrossentropy | MeanAbsolutePercentageError | Hinge | LogCosh | Poisson\n",
    "SparseCategoricalCrossentropy | MeanSquaredError | SquaredHinge | - | Reduction\n",
    "- | MeanSquaredLogarithmicError | Huber | - | -\n",
    "\n",
    "\n",
    "[回到目录](#模型训练)"
   ]
  },
  {
   "cell_type": "code",
   "execution_count": 3,
   "metadata": {},
   "outputs": [
    {
     "name": "stdout",
     "output_type": "stream",
     "text": [
      "Loss:  11.522857\n"
     ]
    }
   ],
   "source": [
    "bce = tf.keras.losses.BinaryCrossentropy()\n",
    "loss = bce([0., 0., 1., 1.], [1., 1., 1., 0.])\n",
    "print('Loss: ', loss.numpy())  # Loss: 11.522857"
   ]
  },
  {
   "cell_type": "markdown",
   "metadata": {},
   "source": [
    "### 2.1自定义损失"
   ]
  },
  {
   "cell_type": "code",
   "execution_count": 4,
   "metadata": {},
   "outputs": [
    {
     "name": "stdout",
     "output_type": "stream",
     "text": [
      "Model: \"model_1\"\n",
      "_________________________________________________________________\n",
      "Layer (type)                 Output Shape              Param #   \n",
      "=================================================================\n",
      "mnist_input (InputLayer)     [(None, 784)]             0         \n",
      "_________________________________________________________________\n",
      "dense_3 (Dense)              (None, 64)                50240     \n",
      "_________________________________________________________________\n",
      "activity_regularization_laye (None, 64)                0         \n",
      "_________________________________________________________________\n",
      "dense_4 (Dense)              (None, 64)                4160      \n",
      "_________________________________________________________________\n",
      "dense_5 (Dense)              (None, 10)                650       \n",
      "=================================================================\n",
      "Total params: 55,050\n",
      "Trainable params: 55,050\n",
      "Non-trainable params: 0\n",
      "_________________________________________________________________\n",
      "50000/50000 [==============================] - 3s 59us/sample - loss: 2.3478 - sparse_categorical_accuracy: 0.1136\n"
     ]
    },
    {
     "data": {
      "text/plain": [
       "<tensorflow.python.keras.callbacks.History at 0x7f60ac136f98>"
      ]
     },
     "execution_count": 4,
     "metadata": {},
     "output_type": "execute_result"
    }
   ],
   "source": [
    "\"\"\"\n",
    "自定义损失loss\n",
    "以定义网络层的方式添加网络loss\n",
    "\"\"\"\n",
    "\n",
    "class ActivityRegularizationLayer(layers.Layer):\n",
    "    def call(self, inputs):\n",
    "        self.add_loss(tf.reduce_sum(inputs) * 0.1)\n",
    "        return inputs\n",
    "\n",
    "inputs = keras.Input(shape=(784,), name='mnist_input')\n",
    "h1 = layers.Dense(64, activation='relu')(inputs)\n",
    "h1 = ActivityRegularizationLayer()(h1)\n",
    "h1 = layers.Dense(64, activation='relu')(h1)\n",
    "outputs = layers.Dense(10, activation='softmax')(h1)\n",
    "\n",
    "model = keras.Model(inputs, outputs)\n",
    "model.summary()\n",
    "# keras.utils.plot_model(model, 'net001.png', show_shapes=True)\n",
    "\n",
    "model.compile(optimizer=keras.optimizers.RMSprop(),\n",
    "             loss=keras.losses.SparseCategoricalCrossentropy(),\n",
    "             metrics=[keras.metrics.SparseCategoricalAccuracy()])\n",
    "model.fit(x_train, y_train, batch_size=32, epochs=1)"
   ]
  },
  {
   "cell_type": "markdown",
   "metadata": {},
   "source": [
    "## 3.指标Metric\n",
    "\n",
    "https://www.tensorflow.org/api_docs/python/tf/keras/metrics\n",
    "\n",
    "A | B | C | D | E | others\n",
    "---|---|---|---|---|---\n",
    "Precision | BinaryAccuracy | Sum | CategoricalHinge |CosineSimilarity |KLDivergence\n",
    "Recall | BinaryCrossentropy | Mean |Hinge | LogCoshError | Poisson\n",
    "Accuracy |  CategoricalAccuracy |  MeanAbsoluteError |SquaredHinge | - |SensitivityAtSpecificity\n",
    "TruePositives | CategoricalCrossentropy  | MeanAbsolutePercentageError | - | - | SpecificityAtSensitivity\n",
    "TrueNegatives | TopKCategoricalAccuracy  | MeanIoU | - | - | -\n",
    "FalsePositives  | SparseCategoricalAccuracy | MeanRelativeError |- | - | -\n",
    "FalseNegatives |  SparseCategoricalCrossentropy | MeanSquaredError |- | - | -\n",
    "AUC  | SparseTopKCategoricalAccuracy |   MeanSquaredLogarithmicError |- | - | -\n",
    "-  | - |   RootMeanSquaredError | - | - | -\n"
   ]
  },
  {
   "cell_type": "code",
   "execution_count": 9,
   "metadata": {},
   "outputs": [
    {
     "name": "stdout",
     "output_type": "stream",
     "text": [
      "result:  0.75\n",
      "result:  0.71428573\n",
      "result:  0.6666667\n"
     ]
    }
   ],
   "source": [
    "\"\"\"\n",
    "metrics模块主要包含了常用的模型评估指标，\n",
    "这个模块与TensorFlow 1.x的metrics模块设计理念是一致的，就是metric本身是有状态的，一般是通过创建Variable来记录。\n",
    "\"\"\"\n",
    "\n",
    "m = tf.keras.metrics.Accuracy()\n",
    "m.update_state([1, 2, 3, 4], [0, 2, 3, 4])\n",
    "print('result: ', m.result().numpy())  # result: 0.75\n",
    "m.update_state([0, 2, 3], [1, 2, 3])\n",
    "print('result: ', m.result().numpy())  #  result: 0.714\n",
    "m.reset_states()  # 重置\n",
    "m.update_state([0, 2, 3], [1, 2, 3])\n",
    "print('result: ', m.result().numpy())  #  result: 0.667"
   ]
  },
  {
   "cell_type": "markdown",
   "metadata": {},
   "source": [
    "### 3.1自定义指标\n",
    "\n",
    "\n",
    "\n",
    "- 继承Metric类，重写函数\n",
    "\n",
    "三个接口必须都要实现，update_state是通过添加新数据而更新状态，而reset_states是重置初始值，result方法是获得当前状态，即metric结果\n",
    "\n",
    ">\\__init\\__(self)，初始化。\n",
    "\n",
    ">update_state(self，y_true，y_pred，sample_weight = None)，它使用目标y_true和模型预测y_pred来更新状态变量。\n",
    "\n",
    ">result(self)，它使用状态变量来计算最终结果。\n",
    "\n",
    ">reset_states(self)，重新初始化度量的状态。\n",
    "\n",
    "- 定义网络层的方式添加要统计的metric\n",
    "- 直接在model上面加\n",
    "\n",
    "\n",
    "\n",
    "[回到目录](#模型训练)"
   ]
  },
  {
   "cell_type": "code",
   "execution_count": 5,
   "metadata": {},
   "outputs": [
    {
     "name": "stdout",
     "output_type": "stream",
     "text": [
      "Epoch 1/3\n",
      "50000/50000 [==============================] - 2s 36us/sample - loss: 2.3014 - binary_true_postives: 49252.0000\n",
      "Epoch 2/3\n",
      "50000/50000 [==============================] - 2s 30us/sample - loss: 2.3013 - binary_true_postives: 49288.0000\n",
      "Epoch 3/3\n",
      "50000/50000 [==============================] - 1s 30us/sample - loss: 2.3012 - binary_true_postives: 49320.0000\n"
     ]
    },
    {
     "data": {
      "text/plain": [
       "<tensorflow.python.keras.callbacks.History at 0x7f6078339080>"
      ]
     },
     "execution_count": 5,
     "metadata": {},
     "output_type": "execute_result"
    }
   ],
   "source": [
    "# 这是一个简单的示例，显示如何实现CatgoricalTruePositives指标，该指标计算正确分类为属于给定类的样本数量\n",
    "\n",
    "class CatgoricalTruePostives(keras.metrics.Metric):\n",
    "    def __init__(self, name='binary_true_postives', **kwargs):\n",
    "        super(CatgoricalTruePostives, self).__init__(name=name, **kwargs)\n",
    "        self.true_postives = self.add_weight(name='tp', initializer='zeros')\n",
    "        \n",
    "    def update_state(self, y_true, y_pred, sample_weight=None):\n",
    "        y_pred = tf.argmax(y_pred)\n",
    "        y_true = tf.equal(tf.cast(y_pred, tf.int32), tf.cast(y_true, tf.int32))\n",
    "        \n",
    "        y_true = tf.cast(y_true, tf.float32)\n",
    "        \n",
    "        if sample_weight is not None:\n",
    "            sample_weight = tf.cast(sample_weight, tf.float32)\n",
    "            y_true = tf.multiply(sample_weight, y_true)\n",
    "            \n",
    "        return self.true_postives.assign_add(tf.reduce_sum(y_true))\n",
    "    \n",
    "    def result(self):\n",
    "        return tf.identity(self.true_postives)\n",
    "    \n",
    "    def reset_states(self):\n",
    "        self.true_postives.assign(0.)\n",
    "        \n",
    "\n",
    "model.compile(optimizer=keras.optimizers.RMSprop(1e-3),\n",
    "             loss=keras.losses.SparseCategoricalCrossentropy(),\n",
    "             metrics=[CatgoricalTruePostives()])\n",
    "\n",
    "model.fit(x_train, y_train, batch_size=64, epochs=3) "
   ]
  },
  {
   "cell_type": "code",
   "execution_count": 6,
   "metadata": {},
   "outputs": [
    {
     "name": "stdout",
     "output_type": "stream",
     "text": [
      "50000/50000 [==============================] - 3s 59us/sample - loss: 0.3075 - sparse_categorical_accuracy: 0.9121 - std_of_activation: 0.9840\n"
     ]
    },
    {
     "data": {
      "text/plain": [
       "<tensorflow.python.keras.callbacks.History at 0x7f60707e7c18>"
      ]
     },
     "execution_count": 6,
     "metadata": {},
     "output_type": "execute_result"
    }
   ],
   "source": [
    "# 也可以以定义网络层的方式添加要统计的metric\n",
    "class MetricLoggingLayer(layers.Layer):\n",
    "    def call(self, inputs):\n",
    "        self.add_metric(keras.backend.std(inputs),\n",
    "                       name='std_of_activation',\n",
    "                       aggregation='mean')\n",
    "        \n",
    "        return inputs\n",
    "\n",
    "inputs = keras.Input(shape=(784,), name='mnist_input')\n",
    "h1 = layers.Dense(64, activation='relu')(inputs)\n",
    "h1 = MetricLoggingLayer()(h1)                         # ★★★★★\n",
    "h1 = layers.Dense(64, activation='relu')(h1)\n",
    "outputs = layers.Dense(10, activation='softmax')(h1)\n",
    "model = keras.Model(inputs, outputs)\n",
    "# keras.utils.plot_model(model, 'net001.png', show_shapes=True)\n",
    "\n",
    "model.compile(optimizer=keras.optimizers.RMSprop(),\n",
    "             loss=keras.losses.SparseCategoricalCrossentropy(),\n",
    "             metrics=[keras.metrics.SparseCategoricalAccuracy()])\n",
    "model.fit(x_train, y_train, batch_size=32, epochs=1)"
   ]
  },
  {
   "cell_type": "code",
   "execution_count": 7,
   "metadata": {},
   "outputs": [
    {
     "name": "stdout",
     "output_type": "stream",
     "text": [
      "50000/50000 [==============================] - 4s 72us/sample - loss: 2.3470 - sparse_categorical_accuracy: 0.1129 - std_of_activation: 0.3083\n"
     ]
    },
    {
     "data": {
      "text/plain": [
       "<tensorflow.python.keras.callbacks.History at 0x7f6061fdbb38>"
      ]
     },
     "execution_count": 7,
     "metadata": {},
     "output_type": "execute_result"
    }
   ],
   "source": [
    "# 也可以直接在model上面加，此处发现loss也可以直接在model上加\n",
    "inputs = keras.Input(shape=(784,), name='mnist_input')\n",
    "h1 = layers.Dense(64, activation='relu')(inputs)\n",
    "h2 = layers.Dense(64, activation='relu')(h1)\n",
    "outputs = layers.Dense(10, activation='softmax')(h2)\n",
    "model = keras.Model(inputs, outputs)\n",
    "\n",
    "model.add_metric(keras.backend.std(inputs),\n",
    "                       name='std_of_activation',\n",
    "                       aggregation='mean')                # ★★★★★ \n",
    "model.add_loss(tf.reduce_sum(h1)*0.1)\n",
    "\n",
    "# keras.utils.plot_model(model, 'net001.png', show_shapes=True)\n",
    "\n",
    "model.compile(optimizer=keras.optimizers.RMSprop(),\n",
    "             loss=keras.losses.SparseCategoricalCrossentropy(),\n",
    "             metrics=[keras.metrics.SparseCategoricalAccuracy()])\n",
    "model.fit(x_train, y_train, batch_size=32, epochs=1)"
   ]
  },
  {
   "cell_type": "markdown",
   "metadata": {},
   "source": [
    "### 注意：model.fit中参数的使用\n",
    "\n",
    "https://www.tensorflow.org/api_docs/python/tf/keras/Model?version=stable#fit\n",
    "\n",
    "**validation_split 只能在用numpy数据训练的情况下使用**\n",
    "\n",
    "可以用`validation_data`参数指定验证数据集"
   ]
  },
  {
   "cell_type": "code",
   "execution_count": 8,
   "metadata": {},
   "outputs": [
    {
     "name": "stdout",
     "output_type": "stream",
     "text": [
      "Train on 40000 samples, validate on 10000 samples\n",
      "40000/40000 [==============================] - 3s 86us/sample - loss: 2.3013 - sparse_categorical_accuracy: 0.1141 - std_of_activation: 0.3087 - val_loss: 2.3014 - val_sparse_categorical_accuracy: 0.1115 - val_std_of_activation: 0.3065\n"
     ]
    },
    {
     "data": {
      "text/plain": [
       "<tensorflow.python.keras.callbacks.History at 0x7f60f0478748>"
      ]
     },
     "execution_count": 8,
     "metadata": {},
     "output_type": "execute_result"
    }
   ],
   "source": [
    "model.fit(x_train, y_train, batch_size=32, epochs=1, validation_split=0.2)"
   ]
  },
  {
   "cell_type": "markdown",
   "metadata": {},
   "source": [
    "## 4.优化器Optimizer\n",
    "\n",
    "https://www.tensorflow.org/api_docs/python/tf/keras/optimizers\n",
    "\n",
    "class `Adadelta`: Optimizer that implements the Adadelta algorithm.\n",
    "\n",
    "class `Adagrad`: Optimizer that implements the Adagrad algorithm.\n",
    "\n",
    "class `Adam`: Optimizer that implements the Adam algorithm.\n",
    "\n",
    "class `Adamax`: Optimizer that implements the Adamax algorithm.\n",
    "\n",
    "class `Ftrl`: Optimizer that implements the FTRL algorithm.\n",
    "\n",
    "class `Nadam`: Optimizer that implements the NAdam algorithm.\n",
    "\n",
    "**class Optimizer: Updated base class for optimizers.**\n",
    "\n",
    "class `RMSprop`: Optimizer that implements the RMSprop algorithm.\n",
    "\n",
    "class `SGD`: Stochastic gradient descent and momentum optimizer.\n",
    "\n",
    "**策略部分**\n",
    "\n",
    "https://www.tensorflow.org/api_docs/python/tf/keras/optimizers/schedules\n",
    "\n",
    "```python\n",
    "initial_learning_rate = 0.1\n",
    "lr_schedule = keras.optimizers.schedules.ExponentialDecay(\n",
    "    initial_learning_rate,\n",
    "    decay_steps=100000,\n",
    "    decay_rate=0.96,\n",
    "    staircase=True)\n",
    "\n",
    "optimizer = keras.optimizers.RMSprop(learning_rate=lr_schedule)\n",
    "```\n",
    "内置的有：`ExponentialDecay`  `PiecewiseConstantDecay` `PolynomialDecay`  `InverseTimeDecay`\n",
    "\n",
    "\n",
    "[回到目录](#模型训练)"
   ]
  },
  {
   "cell_type": "markdown",
   "metadata": {},
   "source": [
    "## 5.tf.data\n",
    "\n",
    "在开始模型训练之前，一个重要的项是数据加载，TensorFlow 2.0的数据加载还是采用tf.data，不过在eager模式下，tf.data.Dataset这个类将成为一个Python迭代器，我们可以直接取值：\n",
    "```python\n",
    "dataset = tf.data.Dataset.range(10)\n",
    "for i, elem in enumerate(dataset):\n",
    "    print(elem)  # prints 0, 1, ..., 9\n",
    "```\n",
    "这里我们只是展示了一个简单的例子，但是足以说明tf.data在TensorFlow 2.0下的变化，tf.data其它使用技巧和TensorFlow 1.x是一致的。\n",
    "\n",
    "详情请见 [A07载入数据](A07load-data.ipynb)\n",
    "\n",
    "[回到目录](#模型训练)"
   ]
  },
  {
   "cell_type": "code",
   "execution_count": 10,
   "metadata": {},
   "outputs": [
    {
     "name": "stdout",
     "output_type": "stream",
     "text": [
      "Epoch 1/3\n",
      "100/100 [==============================] - 1s 13ms/step - loss: 0.8327 - sparse_categorical_accuracy: 0.7781 - val_loss: 0.4068 - val_sparse_categorical_accuracy: 0.8854\n",
      "Epoch 2/3\n",
      "100/100 [==============================] - 0s 4ms/step - loss: 0.3662 - sparse_categorical_accuracy: 0.8952 - val_loss: 0.3002 - val_sparse_categorical_accuracy: 0.9219\n",
      "Epoch 3/3\n",
      "100/100 [==============================] - 0s 4ms/step - loss: 0.3024 - sparse_categorical_accuracy: 0.9097 - val_loss: 0.2241 - val_sparse_categorical_accuracy: 0.9271\n"
     ]
    },
    {
     "data": {
      "text/plain": [
       "<tensorflow.python.keras.callbacks.History at 0x7f6060233240>"
      ]
     },
     "execution_count": 10,
     "metadata": {},
     "output_type": "execute_result"
    }
   ],
   "source": [
    "def get_compiled_model():\n",
    "    inputs = keras.Input(shape=(784,), name='mnist_input')\n",
    "    h1 = layers.Dense(64, activation='relu')(inputs)\n",
    "    h2 = layers.Dense(64, activation='relu')(h1)\n",
    "    outputs = layers.Dense(10, activation='softmax')(h2)\n",
    "    model = keras.Model(inputs, outputs)\n",
    "    model.compile(optimizer=keras.optimizers.RMSprop(),\n",
    "                 loss=keras.losses.SparseCategoricalCrossentropy(),\n",
    "                 metrics=[keras.metrics.SparseCategoricalAccuracy()])\n",
    "    return model\n",
    "\n",
    "model = get_compiled_model()\n",
    "train_dataset = tf.data.Dataset.from_tensor_slices((x_train, y_train))\n",
    "train_dataset = train_dataset.shuffle(buffer_size=1024).batch(64)\n",
    "\n",
    "val_dataset = tf.data.Dataset.from_tensor_slices((x_val, y_val))\n",
    "val_dataset = val_dataset.batch(64)\n",
    "\n",
    "# model.fit(train_dataset, epochs=3)\n",
    "# steps_per_epoch 每个epoch只训练几步\n",
    "# validation_steps 每次验证，验证几步\n",
    "model.fit(train_dataset, epochs=3, steps_per_epoch=100,\n",
    "         validation_data=val_dataset, validation_steps=3)"
   ]
  },
  {
   "cell_type": "markdown",
   "metadata": {},
   "source": [
    "## 6.样本权重和类权重\n",
    "\n",
    "“样本权重”数组是一个数字数组，用于指定批处理中每个样本在计算总损失时应具有多少权重。 它通常**用于不平衡的分类问题**（这个想法是为了给予很少见的类更多的权重）。 当使用的权重是1和0时，该数组可以用作损失函数的掩码（完全丢弃某些样本对总损失的贡献）。\n",
    "\n",
    "“类权重”dict是同一概念的更具体的实例：它将类索引映射到应该用于属于该类的样本的样本权重。 例如，**如果类“0”比数据中的类“1”少两倍，则可以使用class_weight = {0：1.，1：0.5}。**\n",
    "\n",
    "[回到目录](#模型训练)"
   ]
  },
  {
   "cell_type": "code",
   "execution_count": 13,
   "metadata": {},
   "outputs": [
    {
     "name": "stdout",
     "output_type": "stream",
     "text": [
      "{0: 1.0, 1: 1.0, 2: 1.0, 3: 1.0, 4: 1.0, 5: 2.0, 6: 1.0, 7: 1.0, 8: 1.0, 9: 1.0}\n",
      "Epoch 1/4\n",
      "50000/50000 [==============================] - 2s 39us/sample - loss: 0.3764 - sparse_categorical_accuracy: 0.9014\n",
      "Epoch 2/4\n",
      "50000/50000 [==============================] - 2s 33us/sample - loss: 0.1717 - sparse_categorical_accuracy: 0.9527\n",
      "Epoch 3/4\n",
      "50000/50000 [==============================] - 2s 37us/sample - loss: 0.1261 - sparse_categorical_accuracy: 0.9642\n",
      "Epoch 4/4\n",
      "50000/50000 [==============================] - 2s 34us/sample - loss: 0.1022 - sparse_categorical_accuracy: 0.9714\n",
      "Epoch 1/4\n",
      "50000/50000 [==============================] - 2s 38us/sample - loss: 0.3806 - sparse_categorical_accuracy: 0.8980\n",
      "Epoch 2/4\n",
      "50000/50000 [==============================] - 2s 34us/sample - loss: 0.1778 - sparse_categorical_accuracy: 0.9518\n",
      "Epoch 3/4\n",
      "50000/50000 [==============================] - 2s 34us/sample - loss: 0.1322 - sparse_categorical_accuracy: 0.9628\n",
      "Epoch 4/4\n",
      "50000/50000 [==============================] - 2s 34us/sample - loss: 0.1054 - sparse_categorical_accuracy: 0.9704\n"
     ]
    },
    {
     "data": {
      "text/plain": [
       "<tensorflow.python.keras.callbacks.History at 0x7f602a9aa9e8>"
      ]
     },
     "execution_count": 13,
     "metadata": {},
     "output_type": "execute_result"
    }
   ],
   "source": [
    "# 增加第5类的权重\n",
    "import numpy as np\n",
    "# 类权重\n",
    "model = get_compiled_model()\n",
    "class_weight = {i:1.0 for i in range(10)}\n",
    "class_weight[5] = 2.0\n",
    "print(class_weight)\n",
    "model.fit(x_train, y_train,\n",
    "         class_weight=class_weight,\n",
    "         batch_size=64,\n",
    "         epochs=4)\n",
    "\n",
    "# 样本权重\n",
    "model = get_compiled_model()\n",
    "sample_weight = np.ones(shape=(len(y_train),))\n",
    "sample_weight[y_train == 5] = 2.0\n",
    "model.fit(x_train, y_train,\n",
    "         sample_weight=sample_weight,\n",
    "         batch_size=64,\n",
    "         epochs=4)"
   ]
  },
  {
   "cell_type": "code",
   "execution_count": null,
   "metadata": {},
   "outputs": [],
   "source": [
    "# tf.data 和 样本权重\n",
    "model = get_compiled_model()\n",
    "\n",
    "sample_weight = np.ones(shape=(len(y_train),))\n",
    "sample_weight[y_train == 5] = 2.0\n",
    "\n",
    "train_dataset = tf.data.Dataset.from_tensor_slices((x_train, y_train, sample_weight))   # ★★\n",
    "train_dataset = train_dataset.shuffle(buffer_size=1024).batch(64)\n",
    "\n",
    "val_dataset = tf.data.Dataset.from_tensor_slices((x_val, y_val))\n",
    "val_dataset = val_dataset.batch(64)\n",
    "\n",
    "model.fit(train_dataset, epochs=3, )"
   ]
  },
  {
   "cell_type": "markdown",
   "metadata": {},
   "source": [
    "## 7.多输入多输出模型\n",
    "\n",
    "[回到目录](#模型训练)"
   ]
  },
  {
   "cell_type": "code",
   "execution_count": 20,
   "metadata": {},
   "outputs": [
    {
     "data": {
      "image/png": "[encoded data removed]",
      "text/plain": [
       "<IPython.core.display.Image object>"
      ]
     },
     "execution_count": 20,
     "metadata": {},
     "output_type": "execute_result"
    }
   ],
   "source": [
    "from tensorflow import keras\n",
    "from tensorflow.keras import layers\n",
    "\n",
    "image_input = keras.Input(shape=(32, 32, 3), name='img_input')\n",
    "timeseries_input = keras.Input(shape=(None, 10), name='ts_input')\n",
    "\n",
    "x1 = layers.Conv2D(3, 3)(image_input)\n",
    "x1 = layers.GlobalMaxPooling2D()(x1)\n",
    "\n",
    "x2 = layers.Conv1D(3, 3)(timeseries_input)\n",
    "x2 = layers.GlobalMaxPooling1D()(x2)\n",
    "\n",
    "x = layers.concatenate([x1, x2])\n",
    "\n",
    "score_output = layers.Dense(1, name='score_output')(x)\n",
    "class_output = layers.Dense(5, activation='softmax', name='class_output')(x)\n",
    "\n",
    "model = keras.Model(inputs=[image_input, timeseries_input],\n",
    "                    outputs=[score_output, class_output])\n",
    "\n",
    "keras.utils.plot_model(model, 'multi_input_and_output_model.png', show_shapes=True)"
   ]
  },
  {
   "cell_type": "markdown",
   "metadata": {},
   "source": [
    "**怎么训练？**\n",
    "\n",
    "```python\n",
    "# 可以为模型指定不同的loss和metrics\n",
    "model.compile(\n",
    "    optimizer=keras.optimizers.RMSprop(1e-3),\n",
    "    loss=[keras.losses.MeanSquaredError(),\n",
    "          keras.losses.CategoricalCrossentropy()])\n",
    "\n",
    "# 还可以指定loss的权重\n",
    "model.compile(\n",
    "    optimizer=keras.optimizers.RMSprop(1e-3),\n",
    "    loss={'score_output': keras.losses.MeanSquaredError(),\n",
    "          'class_output': keras.losses.CategoricalCrossentropy()},\n",
    "    metrics={'score_output': [keras.metrics.MeanAbsolutePercentageError(),\n",
    "                              keras.metrics.MeanAbsoluteError()],\n",
    "             'class_output': [keras.metrics.CategoricalAccuracy()]},\n",
    "    loss_weight={'score_output': 2., 'class_output': 1.})\n",
    "\n",
    "# 可以把不需要传播的loss置0\n",
    "model.compile(\n",
    "    optimizer=keras.optimizers.RMSprop(1e-3),\n",
    "    loss=[None, keras.losses.CategoricalCrossentropy()])\n",
    "\n",
    "# Or dict loss version\n",
    "model.compile(\n",
    "    optimizer=keras.optimizers.RMSprop(1e-3),\n",
    "    loss={'class_output': keras.losses.CategoricalCrossentropy()})\n",
    "```\n",
    "WARNING:tensorflow:Output score_output missing from loss dictionary. We assume this was done on purpose. The fit and evaluate APIs will not be expecting any data to be passed to score_output."
   ]
  },
  {
   "cell_type": "code",
   "execution_count": 21,
   "metadata": {},
   "outputs": [
    {
     "name": "stdout",
     "output_type": "stream",
     "text": [
      "Epoch 1/3\n",
      "100/100 [==============================] - 0s 3ms/sample - loss: 5.8647 - score_output_loss: 0.6958 - class_output_loss: 5.1689\n",
      "Epoch 2/3\n",
      "100/100 [==============================] - 0s 279us/sample - loss: 5.3265 - score_output_loss: 0.3055 - class_output_loss: 5.0210\n",
      "Epoch 3/3\n",
      "100/100 [==============================] - 0s 264us/sample - loss: 5.1200 - score_output_loss: 0.1810 - class_output_loss: 4.9391\n",
      "Epoch 1/3\n",
      "100/100 [==============================] - 0s 2ms/sample - loss: 5.0012 - score_output_loss: 0.1489 - class_output_loss: 4.8523\n",
      "Epoch 2/3\n",
      "100/100 [==============================] - 0s 2ms/sample - loss: 4.8900 - score_output_loss: 0.1331 - class_output_loss: 4.7569\n",
      "Epoch 3/3\n",
      "100/100 [==============================] - 0s 2ms/sample - loss: 4.8127 - score_output_loss: 0.1301 - class_output_loss: 4.6826\n"
     ]
    },
    {
     "data": {
      "text/plain": [
       "<tensorflow.python.keras.callbacks.History at 0x7f60616c2a20>"
      ]
     },
     "execution_count": 21,
     "metadata": {},
     "output_type": "execute_result"
    }
   ],
   "source": [
    "model.compile(\n",
    "    optimizer=keras.optimizers.RMSprop(1e-3),\n",
    "    loss=[keras.losses.MeanSquaredError(),\n",
    "          keras.losses.CategoricalCrossentropy()])\n",
    "\n",
    "# Generate dummy Numpy data\n",
    "img_data = np.random.random_sample(size=(100, 32, 32, 3))\n",
    "ts_data = np.random.random_sample(size=(100, 20, 10))\n",
    "score_targets = np.random.random_sample(size=(100, 1))\n",
    "class_targets = np.random.random_sample(size=(100, 5))\n",
    "\n",
    "# Fit on lists\n",
    "model.fit([img_data, ts_data], [score_targets, class_targets],\n",
    "          batch_size=32,\n",
    "          epochs=3)\n",
    "\n",
    "# Alternatively, fit on dicts\n",
    "model.fit({'img_input': img_data, 'ts_input': ts_data},\n",
    "          {'score_output': score_targets, 'class_output': class_targets},\n",
    "          batch_size=32,\n",
    "          epochs=3)"
   ]
  },
  {
   "cell_type": "markdown",
   "metadata": {},
   "source": [
    "## 8.使用回调\n",
    "\n",
    "Keras中的回调是在训练期间（在epoch开始时，batch结束时，epoch结束时等）在不同点调用的对象，可用于实现以下行为：\n",
    "\n",
    "- 在培训期间的不同时间点进行验证（超出内置的每个时期验证）\n",
    "- 定期检查模型或超过某个精度阈值\n",
    "- 在训练似乎平稳时改变模型的学习率\n",
    "- 在训练似乎平稳时对顶层进行微调\n",
    "- 在培训结束或超出某个性能阈值时发送电子邮件或即时消息通知等等。\n",
    "\n",
    "**可使用的内置回调有**\n",
    "\n",
    "- ModelCheckpoint：定期保存模型。\n",
    "- EarlyStopping：当训练不再改进验证指标时停止培训。\n",
    "- TensorBoard：定期编写可在TensorBoard中显示的模型日志（更多细节见[可视化](https://www.tensorflow.org/tensorboard)）。\n",
    "- CSVLogger：将丢失和指标数据流式传输到CSV文件。\n",
    "- ...\n",
    "\n",
    "[回到目录](#模型训练)"
   ]
  },
  {
   "cell_type": "code",
   "execution_count": 22,
   "metadata": {},
   "outputs": [
    {
     "name": "stdout",
     "output_type": "stream",
     "text": [
      "Train on 40000 samples, validate on 10000 samples\n",
      "Epoch 1/20\n",
      "40000/40000 [==============================] - 2s 50us/sample - loss: 0.3727 - sparse_categorical_accuracy: 0.8967 - val_loss: 0.2486 - val_sparse_categorical_accuracy: 0.9269\n",
      "Epoch 2/20\n",
      "40000/40000 [==============================] - 1s 37us/sample - loss: 0.1782 - sparse_categorical_accuracy: 0.9469 - val_loss: 0.1867 - val_sparse_categorical_accuracy: 0.9422\n",
      "Epoch 3/20\n",
      "40000/40000 [==============================] - 1s 37us/sample - loss: 0.1303 - sparse_categorical_accuracy: 0.9606 - val_loss: 0.1529 - val_sparse_categorical_accuracy: 0.9541\n",
      "Epoch 4/20\n",
      "40000/40000 [==============================] - 1s 37us/sample - loss: 0.1020 - sparse_categorical_accuracy: 0.9698 - val_loss: 0.1425 - val_sparse_categorical_accuracy: 0.9597\n",
      "Epoch 5/20\n",
      "40000/40000 [==============================] - 1s 37us/sample - loss: 0.0850 - sparse_categorical_accuracy: 0.9747 - val_loss: 0.1505 - val_sparse_categorical_accuracy: 0.9599\n",
      "Epoch 6/20\n",
      "40000/40000 [==============================] - 1s 36us/sample - loss: 0.0731 - sparse_categorical_accuracy: 0.9783 - val_loss: 0.1336 - val_sparse_categorical_accuracy: 0.9641\n",
      "Epoch 00006: early stopping\n"
     ]
    },
    {
     "data": {
      "text/plain": [
       "<tensorflow.python.keras.callbacks.History at 0x7f6013f52a20>"
      ]
     },
     "execution_count": 22,
     "metadata": {},
     "output_type": "execute_result"
    }
   ],
   "source": [
    "model = get_compiled_model()\n",
    "\n",
    "callbacks = [\n",
    "    keras.callbacks.EarlyStopping(\n",
    "        # Stop training when `val_loss` is no longer improving\n",
    "        monitor='val_loss',\n",
    "        # \"no longer improving\" being defined as \"no better than 1e-2 less\"\n",
    "        min_delta=1e-2,\n",
    "        # \"no longer improving\" being further defined as \"for at least 2 epochs\"\n",
    "        patience=2,\n",
    "        verbose=1)\n",
    "]\n",
    "model.fit(x_train, y_train,\n",
    "          epochs=20,\n",
    "          batch_size=64,\n",
    "          callbacks=callbacks,\n",
    "          validation_split=0.2)"
   ]
  },
  {
   "cell_type": "code",
   "execution_count": 23,
   "metadata": {},
   "outputs": [
    {
     "name": "stdout",
     "output_type": "stream",
     "text": [
      "Train on 40000 samples, validate on 10000 samples\n",
      "Epoch 1/3\n",
      "39936/40000 [============================>.] - ETA: 0s - loss: 0.3784 - sparse_categorical_accuracy: 0.8916\n",
      "Epoch 00001: val_loss improved from inf to 0.27112, saving model to mymodel_1.h5\n",
      "40000/40000 [==============================] - 2s 46us/sample - loss: 0.3786 - sparse_categorical_accuracy: 0.8916 - val_loss: 0.2711 - val_sparse_categorical_accuracy: 0.9153\n",
      "Epoch 2/3\n",
      "38528/40000 [===========================>..] - ETA: 0s - loss: 0.1784 - sparse_categorical_accuracy: 0.9464\n",
      "Epoch 00002: val_loss improved from 0.27112 to 0.18934, saving model to mymodel_2.h5\n",
      "40000/40000 [==============================] - 1s 36us/sample - loss: 0.1771 - sparse_categorical_accuracy: 0.9468 - val_loss: 0.1893 - val_sparse_categorical_accuracy: 0.9419\n",
      "Epoch 3/3\n",
      "39168/40000 [============================>.] - ETA: 0s - loss: 0.1290 - sparse_categorical_accuracy: 0.9605\n",
      "Epoch 00003: val_loss improved from 0.18934 to 0.16096, saving model to mymodel_3.h5\n",
      "40000/40000 [==============================] - 1s 37us/sample - loss: 0.1289 - sparse_categorical_accuracy: 0.9606 - val_loss: 0.1610 - val_sparse_categorical_accuracy: 0.9522\n"
     ]
    },
    {
     "data": {
      "text/plain": [
       "<tensorflow.python.keras.callbacks.History at 0x7f60001f5d68>"
      ]
     },
     "execution_count": 23,
     "metadata": {},
     "output_type": "execute_result"
    }
   ],
   "source": [
    "model = get_compiled_model()\n",
    "\n",
    "callbacks = [\n",
    "    keras.callbacks.ModelCheckpoint(\n",
    "        filepath='mymodel_{epoch}.h5',\n",
    "        # Path where to save the model\n",
    "        # The two parameters below mean that we will overwrite\n",
    "        # the current checkpoint if and only if\n",
    "        # the `val_loss` score has improved.\n",
    "        save_best_only=True,\n",
    "        monitor='val_loss',\n",
    "        verbose=1)\n",
    "]\n",
    "model.fit(x_train, y_train,\n",
    "          epochs=3,\n",
    "          batch_size=64,\n",
    "          callbacks=callbacks,\n",
    "          validation_split=0.2)"
   ]
  },
  {
   "cell_type": "code",
   "execution_count": 24,
   "metadata": {},
   "outputs": [
    {
     "name": "stdout",
     "output_type": "stream",
     "text": [
      "Train on 40000 samples, validate on 10000 samples\n",
      "Epoch 1/5\n",
      "40000/40000 [==============================] - 2s 42us/sample - loss: 0.1012 - sparse_categorical_accuracy: 0.9695 - val_loss: 0.1469 - val_sparse_categorical_accuracy: 0.9576\n",
      "Epoch 2/5\n",
      "40000/40000 [==============================] - 2s 38us/sample - loss: 0.0822 - sparse_categorical_accuracy: 0.9748 - val_loss: 0.1474 - val_sparse_categorical_accuracy: 0.9578\n",
      "Epoch 3/5\n",
      "40000/40000 [==============================] - 2s 39us/sample - loss: 0.0684 - sparse_categorical_accuracy: 0.9797 - val_loss: 0.1344 - val_sparse_categorical_accuracy: 0.9613\n",
      "Epoch 4/5\n",
      "40000/40000 [==============================] - 2s 40us/sample - loss: 0.0589 - sparse_categorical_accuracy: 0.9824 - val_loss: 0.1344 - val_sparse_categorical_accuracy: 0.9657\n",
      "Epoch 5/5\n",
      "40000/40000 [==============================] - 2s 38us/sample - loss: 0.0513 - sparse_categorical_accuracy: 0.9852 - val_loss: 0.1388 - val_sparse_categorical_accuracy: 0.9660\n"
     ]
    },
    {
     "data": {
      "text/plain": [
       "<tensorflow.python.keras.callbacks.History at 0x7f5fff8391d0>"
      ]
     },
     "execution_count": 24,
     "metadata": {},
     "output_type": "execute_result"
    }
   ],
   "source": [
    "# tensorboard --logdir=/full_path_to_your_logs 可视化查看日志内容\n",
    "\n",
    "tensorboard_cbk = keras.callbacks.TensorBoard(\n",
    "  log_dir='/full_path_to_your_logs',\n",
    "  histogram_freq=0,  # How often to log histogram visualizations\n",
    "  embeddings_freq=0,  # How often to log embedding visualizations\n",
    "  update_freq='epoch')  # How often to write logs (default: once per epoch)\n",
    "\n",
    "model.fit(x_train, y_train,\n",
    "         epochs=5,\n",
    "         batch_size=64,\n",
    "         callbacks=[tensorboard_cbk],\n",
    "         validation_split=0.2)"
   ]
  },
  {
   "cell_type": "markdown",
   "metadata": {},
   "source": [
    "### 其他用法\n",
    "- Using callbacks to implement a dynamic learning rate schedule\n",
    "\n",
    "A dynamic learning rate schedule (for instance, decreasing the learning rate when the validation loss is no longer improving) cannot be achieved with these schedule objects since the optimizer does not have access to validation metrics.\n",
    "\n",
    "However, callbacks do have access to all metrics, including validation metrics! You can thus achieve this pattern by using a callback that modifies the current learning rate on the optimizer. In fact, this is even built-in as the `ReduceLROnPlateau` callback.\n",
    "\n",
    "- 多个callbacks\n",
    "\n",
    "```python\n",
    "callbacks = [\n",
    "    tf.keras.callbacks.EarlyStopping(patience=2, monitor='val_loss'),\n",
    "    tf.keras.callbacks.TensorBoard(log_dir='./logs')\n",
    "]\n",
    "model.fit(train_x, train_y, batch_size=16, epochs=5,\n",
    "         callbacks=callbacks, validation_data=(val_x, val_y))\n",
    "```\n",
    "\n",
    "- 创建自己的回调方法\n",
    "\n",
    "https://www.tensorflow.org/guide/keras/custom_callback\n",
    "\n",
    "```python\n",
    "class LossHistory(keras.callbacks.Callback):\n",
    "    def on_train_begin(self, logs):\n",
    "        self.losses = []\n",
    "    def on_epoch_end(self, batch, logs):\n",
    "        self.losses.append(logs.get('loss'))\n",
    "        print('\\nloss:',self.losses[-1])\n",
    "        \n",
    "model = get_compiled_model()\n",
    "\n",
    "callbacks = [\n",
    "    LossHistory()\n",
    "]\n",
    "model.fit(x_train, y_train,\n",
    "          epochs=3,\n",
    "          batch_size=64,\n",
    "          callbacks=callbacks,\n",
    "          validation_split=0.2)\n",
    "```\n",
    "\n",
    "[回到目录](#模型训练)"
   ]
  },
  {
   "cell_type": "markdown",
   "metadata": {},
   "source": [
    "## 9.自行构造训练流程\n",
    "\n",
    "- [9.1 使用GradientTape](#9.1使用GradientTape)\n",
    "- [9.2 使用Metrics](#9.2使用Metrics)\n",
    "- [9.3 使用自定义的loss](#9.3使用自定义的loss)\n",
    "\n",
    "[回到目录](#模型训练)"
   ]
  },
  {
   "cell_type": "markdown",
   "metadata": {},
   "source": [
    "### 9.1使用GradientTape"
   ]
  },
  {
   "cell_type": "code",
   "execution_count": 25,
   "metadata": {},
   "outputs": [
    {
     "name": "stdout",
     "output_type": "stream",
     "text": [
      "epoch:  0\n",
      "Training loss (for one batch) at step 0: 2.463557004928589\n",
      "Seen so far: 64 samples\n",
      "Training loss (for one batch) at step 200: 2.2825393676757812\n",
      "Seen so far: 12864 samples\n",
      "Training loss (for one batch) at step 400: 2.178082227706909\n",
      "Seen so far: 25664 samples\n",
      "Training loss (for one batch) at step 600: 2.124694347381592\n",
      "Seen so far: 38464 samples\n",
      "epoch:  1\n",
      "Training loss (for one batch) at step 0: 2.140631675720215\n",
      "Seen so far: 64 samples\n",
      "Training loss (for one batch) at step 200: 1.9843699932098389\n",
      "Seen so far: 12864 samples\n",
      "Training loss (for one batch) at step 400: 1.8294868469238281\n",
      "Seen so far: 25664 samples\n",
      "Training loss (for one batch) at step 600: 1.8115460872650146\n",
      "Seen so far: 38464 samples\n",
      "epoch:  2\n",
      "Training loss (for one batch) at step 0: 1.8379809856414795\n",
      "Seen so far: 64 samples\n",
      "Training loss (for one batch) at step 200: 1.6191942691802979\n",
      "Seen so far: 12864 samples\n",
      "Training loss (for one batch) at step 400: 1.4015848636627197\n",
      "Seen so far: 25664 samples\n",
      "Training loss (for one batch) at step 600: 1.4346963167190552\n",
      "Seen so far: 38464 samples\n"
     ]
    }
   ],
   "source": [
    "# Get the model.\n",
    "inputs = keras.Input(shape=(784,), name='digits')\n",
    "x = layers.Dense(64, activation='relu', name='dense_1')(inputs)\n",
    "x = layers.Dense(64, activation='relu', name='dense_2')(x)\n",
    "outputs = layers.Dense(10, activation='softmax', name='predictions')(x)\n",
    "model = keras.Model(inputs=inputs, outputs=outputs)\n",
    "\n",
    "# Instantiate an optimizer.\n",
    "optimizer = keras.optimizers.SGD(learning_rate=1e-3)\n",
    "# Instantiate a loss function.\n",
    "loss_fn = keras.losses.SparseCategoricalCrossentropy()\n",
    "\n",
    "# Prepare the training dataset.\n",
    "batch_size = 64\n",
    "train_dataset = tf.data.Dataset.from_tensor_slices((x_train, y_train))\n",
    "train_dataset = train_dataset.shuffle(buffer_size=1024).batch(batch_size)\n",
    "\n",
    "# 自己构造循环\n",
    "for epoch in range(3):\n",
    "    print('epoch: ', epoch)\n",
    "    for step, (x_batch_train, y_batch_train) in enumerate(train_dataset):\n",
    "        # 开一个gradient tape, 计算梯度\n",
    "        with tf.GradientTape() as tape:\n",
    "            logits = model(x_batch_train)\n",
    "            \n",
    "            loss_value = loss_fn(y_batch_train, logits)\n",
    "            grads = tape.gradient(loss_value, model.trainable_variables)\n",
    "            optimizer.apply_gradients(zip(grads, model.trainable_variables))\n",
    "            \n",
    "        if step % 200 == 0:\n",
    "            print('Training loss (for one batch) at step %s: %s' % (step, float(loss_value)))\n",
    "            print('Seen so far: %s samples' % ((step + 1) * 64))"
   ]
  },
  {
   "cell_type": "markdown",
   "metadata": {},
   "source": [
    "### 9.2使用Metrics"
   ]
  },
  {
   "cell_type": "code",
   "execution_count": 26,
   "metadata": {},
   "outputs": [
    {
     "name": "stdout",
     "output_type": "stream",
     "text": [
      "Start of epoch 0\n",
      "Training loss (for one batch) at step 0: 2.3806729316711426\n",
      "Seen so far: 64 samples\n",
      "Training loss (for one batch) at step 200: 2.2563037872314453\n",
      "Seen so far: 12864 samples\n",
      "Training loss (for one batch) at step 400: 2.119673490524292\n",
      "Seen so far: 25664 samples\n",
      "Training loss (for one batch) at step 600: 2.0766963958740234\n",
      "Seen so far: 38464 samples\n",
      "Training acc over epoch: 0.25332000851631165\n",
      "Validation acc: 0.42590001225471497\n",
      "Start of epoch 1\n",
      "Training loss (for one batch) at step 0: 2.0414552688598633\n",
      "Seen so far: 64 samples\n",
      "Training loss (for one batch) at step 200: 1.9612574577331543\n",
      "Seen so far: 12864 samples\n",
      "Training loss (for one batch) at step 400: 1.8063271045684814\n",
      "Seen so far: 25664 samples\n",
      "Training loss (for one batch) at step 600: 1.7116385698318481\n",
      "Seen so far: 38464 samples\n",
      "Training acc over epoch: 0.49838000535964966\n",
      "Validation acc: 0.5934000015258789\n",
      "Start of epoch 2\n",
      "Training loss (for one batch) at step 0: 1.676201343536377\n",
      "Seen so far: 64 samples\n",
      "Training loss (for one batch) at step 200: 1.5939602851867676\n",
      "Seen so far: 12864 samples\n",
      "Training loss (for one batch) at step 400: 1.4455537796020508\n",
      "Seen so far: 25664 samples\n",
      "Training loss (for one batch) at step 600: 1.3364343643188477\n",
      "Seen so far: 38464 samples\n",
      "Training acc over epoch: 0.6417999863624573\n",
      "Validation acc: 0.7286999821662903\n"
     ]
    }
   ],
   "source": [
    "# Get model\n",
    "inputs = keras.Input(shape=(784,), name='digits')\n",
    "x = layers.Dense(64, activation='relu', name='dense_1')(inputs)\n",
    "x = layers.Dense(64, activation='relu', name='dense_2')(x)\n",
    "outputs = layers.Dense(10, activation='softmax', name='predictions')(x)\n",
    "model = keras.Model(inputs=inputs, outputs=outputs)\n",
    "\n",
    "optimizer = keras.optimizers.SGD(learning_rate=1e-3)\n",
    "loss_fn = keras.losses.SparseCategoricalCrossentropy()\n",
    "\n",
    "# Prepare the metrics.\n",
    "train_acc_metric = keras.metrics.SparseCategoricalAccuracy() \n",
    "val_acc_metric = keras.metrics.SparseCategoricalAccuracy()\n",
    "\n",
    "# Prepare the training dataset.\n",
    "batch_size = 64\n",
    "train_dataset = tf.data.Dataset.from_tensor_slices((x_train, y_train))\n",
    "train_dataset = train_dataset.shuffle(buffer_size=1024).batch(batch_size)\n",
    "\n",
    "# Prepare the validation dataset.\n",
    "val_dataset = tf.data.Dataset.from_tensor_slices((x_val, y_val))\n",
    "val_dataset = val_dataset.batch(64)\n",
    "\n",
    "# Iterate over epochs.\n",
    "for epoch in range(3):\n",
    "  print('Start of epoch %d' % (epoch,))\n",
    "  for step, (x_batch_train, y_batch_train) in enumerate(train_dataset):\n",
    "    with tf.GradientTape() as tape:\n",
    "      logits = model(x_batch_train)\n",
    "      loss_value = loss_fn(y_batch_train, logits)\n",
    "    grads = tape.gradient(loss_value, model.trainable_variables)\n",
    "    optimizer.apply_gradients(zip(grads, model.trainable_variables))\n",
    "      \n",
    "    # Update training metric.\n",
    "    train_acc_metric(y_batch_train, logits)\n",
    "\n",
    "    # Log every 200 batches.\n",
    "    if step % 200 == 0:\n",
    "        print('Training loss (for one batch) at step %s: %s' % (step, float(loss_value)))\n",
    "        print('Seen so far: %s samples' % ((step + 1) * 64))\n",
    "\n",
    "  # Display metrics at the end of each epoch.\n",
    "  train_acc = train_acc_metric.result()\n",
    "  print('Training acc over epoch: %s' % (float(train_acc),))\n",
    "  # Reset training metrics at the end of each epoch\n",
    "  train_acc_metric.reset_states()\n",
    "\n",
    "  # Run a validation loop at the end of each epoch.\n",
    "  for x_batch_val, y_batch_val in val_dataset:\n",
    "    val_logits = model(x_batch_val)\n",
    "    # Update val metrics\n",
    "    val_acc_metric(y_batch_val, val_logits)\n",
    "  val_acc = val_acc_metric.result()\n",
    "  val_acc_metric.reset_states()\n",
    "  print('Validation acc: %s' % (float(val_acc),))"
   ]
  },
  {
   "cell_type": "markdown",
   "metadata": {},
   "source": [
    "### 9.3使用自定义的loss"
   ]
  },
  {
   "cell_type": "code",
   "execution_count": 30,
   "metadata": {},
   "outputs": [
    {
     "name": "stdout",
     "output_type": "stream",
     "text": [
      "[<tf.Tensor: id=1011278, shape=(), dtype=float32, numpy=6.6054897>]\n",
      "[<tf.Tensor: id=1011339, shape=(), dtype=float32, numpy=6.715292>]\n"
     ]
    }
   ],
   "source": [
    "##　添加自己构造的loss, 每次只能看到最新一次训练增加的loss\n",
    "class ActivityRegularizationLayer(layers.Layer):\n",
    "  def call(self, inputs):\n",
    "    self.add_loss(1e-2 * tf.reduce_sum(inputs))\n",
    "    return inputs\n",
    "  \n",
    "inputs = keras.Input(shape=(784,), name='digits')\n",
    "x = layers.Dense(64, activation='relu', name='dense_1')(inputs)\n",
    "x = ActivityRegularizationLayer()(x)      # Insert activity regularization as a layer\n",
    "x = layers.Dense(64, activation='relu', name='dense_2')(x)\n",
    "outputs = layers.Dense(10, activation='softmax', name='predictions')(x)\n",
    "\n",
    "model = keras.Model(inputs=inputs, outputs=outputs)\n",
    "logits = model(x_train[:64])\n",
    "print(model.losses)\n",
    "logits = model(x_train[:64])\n",
    "logits = model(x_train[64: 128])\n",
    "logits = model(x_train[128: 192])\n",
    "print(model.losses)        # display the latest losses"
   ]
  },
  {
   "cell_type": "code",
   "execution_count": 31,
   "metadata": {},
   "outputs": [
    {
     "name": "stdout",
     "output_type": "stream",
     "text": [
      "Start of epoch 0\n",
      "Training loss (for one batch) at step 0: 9.299819946289062\n",
      "Seen so far: 64 samples\n",
      "Training loss (for one batch) at step 200: 2.5523834228515625\n",
      "Seen so far: 12864 samples\n",
      "Training loss (for one batch) at step 400: 2.414079189300537\n",
      "Seen so far: 25664 samples\n",
      "Training loss (for one batch) at step 600: 2.3344929218292236\n",
      "Seen so far: 38464 samples\n",
      "Start of epoch 1\n",
      "Training loss (for one batch) at step 0: 2.3324875831604004\n",
      "Seen so far: 64 samples\n",
      "Training loss (for one batch) at step 200: 2.3382205963134766\n",
      "Seen so far: 12864 samples\n",
      "Training loss (for one batch) at step 400: 2.3406896591186523\n",
      "Seen so far: 25664 samples\n",
      "Training loss (for one batch) at step 600: 2.3131072521209717\n",
      "Seen so far: 38464 samples\n",
      "Start of epoch 2\n",
      "Training loss (for one batch) at step 0: 2.3144371509552\n",
      "Seen so far: 64 samples\n",
      "Training loss (for one batch) at step 200: 2.3209519386291504\n",
      "Seen so far: 12864 samples\n",
      "Training loss (for one batch) at step 400: 2.324777126312256\n",
      "Seen so far: 25664 samples\n",
      "Training loss (for one batch) at step 600: 2.308004856109619\n",
      "Seen so far: 38464 samples\n"
     ]
    }
   ],
   "source": [
    "# 将loss添加进求导中\n",
    "optimizer = keras.optimizers.SGD(learning_rate=1e-3)\n",
    "\n",
    "for epoch in range(3):\n",
    "  print('Start of epoch %d' % (epoch,))\n",
    "\n",
    "  for step, (x_batch_train, y_batch_train) in enumerate(train_dataset):\n",
    "    with tf.GradientTape() as tape:\n",
    "      logits = model(x_batch_train)\n",
    "      loss_value = loss_fn(y_batch_train, logits)\n",
    "\n",
    "      # Add extra losses created during this forward pass:\n",
    "      loss_value += sum(model.losses)\n",
    "      \n",
    "    grads = tape.gradient(loss_value, model.trainable_variables)\n",
    "    optimizer.apply_gradients(zip(grads, model.trainable_variables))\n",
    "\n",
    "    # Log every 200 batches.\n",
    "    if step % 200 == 0:\n",
    "        print('Training loss (for one batch) at step %s: %s' % (step, float(loss_value)))\n",
    "        print('Seen so far: %s samples' % ((step + 1) * 64))"
   ]
  },
  {
   "cell_type": "code",
   "execution_count": null,
   "metadata": {},
   "outputs": [],
   "source": []
  }
 ],
 "metadata": {
  "kernelspec": {
   "display_name": "Python 3",
   "language": "python",
   "name": "python3"
  },
  "language_info": {
   "codemirror_mode": {
    "name": "ipython",
    "version": 3
   },
   "file_extension": ".py",
   "mimetype": "text/x-python",
   "name": "python",
   "nbconvert_exporter": "python",
   "pygments_lexer": "ipython3",
   "version": "3.6.8"
  }
 },
 "nbformat": 4,
 "nbformat_minor": 2
}
